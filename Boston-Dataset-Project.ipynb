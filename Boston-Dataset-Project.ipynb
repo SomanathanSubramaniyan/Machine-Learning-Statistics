{
 "cells": [
  {
   "cell_type": "markdown",
   "metadata": {},
   "source": [
    "# Machine Learning and Statistics\n",
    "## Boston Housing dataset - Assginment\n",
    "\n",
    "This report is to predict house prices in Boston suburb and the report is organized in such a way as to demonstrate the getting the data, cleaning the data, to exploratory analysis of the dataset to understand the distribution and importance of various features in influencing the house prices, to come up with a hypothesis and fitting a linear regression model.\n",
    "\n",
    "This assignment is divided into 5 Sections\n",
    "\n",
    "- Section 1 and 2 : Boston Housing Data Describtion and Inference\n",
    "        - Data Description\n",
    "        - Number of Bedrooms Versis Median Value of the homes\n",
    "            - Description and Inference\n",
    "            - R-Squred value \n",
    "            - Key Findings  \n",
    "        \n",
    "        - Lower status of the population (lstat) Versis Median Value of the homes\n",
    "            - Description and Inference\n",
    "            - R-Squred value \n",
    "            - Key Findings  \n",
    "            \n",
    "        - pupil-teacher ratio by town (ptratio) Versis Median Value of the homes\n",
    "            - Description and Inference\n",
    "            - R-Squred value \n",
    "            - Key Findings  \n",
    "            \n",
    "        -  T test - Inferential Statistics - House price analysis near charles river \n",
    "            - Key Findings\n",
    "        \n",
    "- Section 3 : Prediction\n",
    "        - Prediction without Pre-Processing\n",
    "            - Preparing the data\n",
    "            - Building and Training\n",
    "        \n",
    "        - Prediction with Pre-Processed Data\n",
    "            - One-off Scaling : Normalize the range of independent variables or features of data.\n",
    "            - Fitting and Transforming \n",
    "            - Whitening \n",
    "            - Building and Training\n",
    "    \n",
    "         - Derive the optimisation and activation parameters    \n",
    "         - Evaluate the model using inferred activation and Optimisation parameters\n",
    "         \n",
    "- Section 4 : Summary and key-findings\n",
    "\n",
    "\n",
    "- Section 5 : References\n",
    "\n",
    " "
   ]
  },
  {
   "cell_type": "markdown",
   "metadata": {},
   "source": [
    "### Section 1 & 2 : Data Description\n",
    "\n",
    "The Boston housing dataset is taken from the Kaggle site and stored in the project assessment GIT repository. This dataset contains information collected by the U.S Census Service concerning housing in the area of Boston Mass. The original information orginated from StatLib archive. The dataset set contains 506 entries and 14 parameters/variables/features.\n",
    "\n",
    "The 14 features in the dataset are mentioned below\n",
    "\n",
    "- crim   : per capita crime rate by town.\n",
    "- zn     : proportion of residential land zoned for lots over 25,000 sq.ft.\n",
    "- indus  : proportion of non-retail business acres per town.\n",
    "- chas   : Charles River dummy variable (= 1 if tract bounds river; 0 otherwise).\n",
    "- nox    : Nitrogen oxides concentration (parts per 10 million).\n",
    "- rm     : average number of rooms per dwelling.\n",
    "- age    : proportion of owner-occupied units built prior to 1940.\n",
    "- dis    : weighted mean of distances to five Boston employment centres.\n",
    "- rad    : index of accessibility to radial highways.\n",
    "- tax    : full-value property-tax rate per \\USD 10,000.\n",
    "- ptratio: pupil-teacher ratio by town.\n",
    "- black  : 1000(Bk - 0.63)^2 where Bk is the proportion of blacks by town.\n",
    "- lstat  : lower status of the population (percent).\n",
    "- medv   : median value of owner-occupied homes in \\USD 1000s.\n"
   ]
  },
  {
   "cell_type": "code",
   "execution_count": 1,
   "metadata": {},
   "outputs": [
    {
     "data": {
      "text/html": [
       "<div>\n",
       "<style scoped>\n",
       "    .dataframe tbody tr th:only-of-type {\n",
       "        vertical-align: middle;\n",
       "    }\n",
       "\n",
       "    .dataframe tbody tr th {\n",
       "        vertical-align: top;\n",
       "    }\n",
       "\n",
       "    .dataframe thead th {\n",
       "        text-align: right;\n",
       "    }\n",
       "</style>\n",
       "<table border=\"1\" class=\"dataframe\">\n",
       "  <thead>\n",
       "    <tr style=\"text-align: right;\">\n",
       "      <th></th>\n",
       "      <th>crim</th>\n",
       "      <th>zn</th>\n",
       "      <th>indus</th>\n",
       "      <th>chas</th>\n",
       "      <th>nox</th>\n",
       "      <th>rm</th>\n",
       "      <th>age</th>\n",
       "      <th>dis</th>\n",
       "      <th>rad</th>\n",
       "      <th>tax</th>\n",
       "      <th>ptratio</th>\n",
       "      <th>black</th>\n",
       "      <th>lstat</th>\n",
       "      <th>medv</th>\n",
       "    </tr>\n",
       "  </thead>\n",
       "  <tbody>\n",
       "    <tr>\n",
       "      <th>count</th>\n",
       "      <td>506.000000</td>\n",
       "      <td>506.000000</td>\n",
       "      <td>506.000000</td>\n",
       "      <td>506.000000</td>\n",
       "      <td>506.000000</td>\n",
       "      <td>506.000000</td>\n",
       "      <td>506.000000</td>\n",
       "      <td>506.000000</td>\n",
       "      <td>506.000000</td>\n",
       "      <td>506.000000</td>\n",
       "      <td>506.000000</td>\n",
       "      <td>506.000000</td>\n",
       "      <td>506.000000</td>\n",
       "      <td>506.000000</td>\n",
       "    </tr>\n",
       "    <tr>\n",
       "      <th>mean</th>\n",
       "      <td>3.613524</td>\n",
       "      <td>11.363636</td>\n",
       "      <td>11.136779</td>\n",
       "      <td>0.069170</td>\n",
       "      <td>0.554695</td>\n",
       "      <td>6.284634</td>\n",
       "      <td>68.574901</td>\n",
       "      <td>3.795043</td>\n",
       "      <td>9.549407</td>\n",
       "      <td>408.237154</td>\n",
       "      <td>18.455534</td>\n",
       "      <td>356.674032</td>\n",
       "      <td>12.653063</td>\n",
       "      <td>22.532806</td>\n",
       "    </tr>\n",
       "    <tr>\n",
       "      <th>std</th>\n",
       "      <td>8.601545</td>\n",
       "      <td>23.322453</td>\n",
       "      <td>6.860353</td>\n",
       "      <td>0.253994</td>\n",
       "      <td>0.115878</td>\n",
       "      <td>0.702617</td>\n",
       "      <td>28.148861</td>\n",
       "      <td>2.105710</td>\n",
       "      <td>8.707259</td>\n",
       "      <td>168.537116</td>\n",
       "      <td>2.164946</td>\n",
       "      <td>91.294864</td>\n",
       "      <td>7.141062</td>\n",
       "      <td>9.197104</td>\n",
       "    </tr>\n",
       "    <tr>\n",
       "      <th>min</th>\n",
       "      <td>0.006320</td>\n",
       "      <td>0.000000</td>\n",
       "      <td>0.460000</td>\n",
       "      <td>0.000000</td>\n",
       "      <td>0.385000</td>\n",
       "      <td>3.561000</td>\n",
       "      <td>2.900000</td>\n",
       "      <td>1.129600</td>\n",
       "      <td>1.000000</td>\n",
       "      <td>187.000000</td>\n",
       "      <td>12.600000</td>\n",
       "      <td>0.320000</td>\n",
       "      <td>1.730000</td>\n",
       "      <td>5.000000</td>\n",
       "    </tr>\n",
       "    <tr>\n",
       "      <th>25%</th>\n",
       "      <td>0.082045</td>\n",
       "      <td>0.000000</td>\n",
       "      <td>5.190000</td>\n",
       "      <td>0.000000</td>\n",
       "      <td>0.449000</td>\n",
       "      <td>5.885500</td>\n",
       "      <td>45.025000</td>\n",
       "      <td>2.100175</td>\n",
       "      <td>4.000000</td>\n",
       "      <td>279.000000</td>\n",
       "      <td>17.400000</td>\n",
       "      <td>375.377500</td>\n",
       "      <td>6.950000</td>\n",
       "      <td>17.025000</td>\n",
       "    </tr>\n",
       "    <tr>\n",
       "      <th>50%</th>\n",
       "      <td>0.256510</td>\n",
       "      <td>0.000000</td>\n",
       "      <td>9.690000</td>\n",
       "      <td>0.000000</td>\n",
       "      <td>0.538000</td>\n",
       "      <td>6.208500</td>\n",
       "      <td>77.500000</td>\n",
       "      <td>3.207450</td>\n",
       "      <td>5.000000</td>\n",
       "      <td>330.000000</td>\n",
       "      <td>19.050000</td>\n",
       "      <td>391.440000</td>\n",
       "      <td>11.360000</td>\n",
       "      <td>21.200000</td>\n",
       "    </tr>\n",
       "    <tr>\n",
       "      <th>75%</th>\n",
       "      <td>3.677082</td>\n",
       "      <td>12.500000</td>\n",
       "      <td>18.100000</td>\n",
       "      <td>0.000000</td>\n",
       "      <td>0.624000</td>\n",
       "      <td>6.623500</td>\n",
       "      <td>94.075000</td>\n",
       "      <td>5.188425</td>\n",
       "      <td>24.000000</td>\n",
       "      <td>666.000000</td>\n",
       "      <td>20.200000</td>\n",
       "      <td>396.225000</td>\n",
       "      <td>16.955000</td>\n",
       "      <td>25.000000</td>\n",
       "    </tr>\n",
       "    <tr>\n",
       "      <th>max</th>\n",
       "      <td>88.976200</td>\n",
       "      <td>100.000000</td>\n",
       "      <td>27.740000</td>\n",
       "      <td>1.000000</td>\n",
       "      <td>0.871000</td>\n",
       "      <td>8.780000</td>\n",
       "      <td>100.000000</td>\n",
       "      <td>12.126500</td>\n",
       "      <td>24.000000</td>\n",
       "      <td>711.000000</td>\n",
       "      <td>22.000000</td>\n",
       "      <td>396.900000</td>\n",
       "      <td>37.970000</td>\n",
       "      <td>50.000000</td>\n",
       "    </tr>\n",
       "  </tbody>\n",
       "</table>\n",
       "</div>"
      ],
      "text/plain": [
       "             crim          zn       indus        chas         nox          rm  \\\n",
       "count  506.000000  506.000000  506.000000  506.000000  506.000000  506.000000   \n",
       "mean     3.613524   11.363636   11.136779    0.069170    0.554695    6.284634   \n",
       "std      8.601545   23.322453    6.860353    0.253994    0.115878    0.702617   \n",
       "min      0.006320    0.000000    0.460000    0.000000    0.385000    3.561000   \n",
       "25%      0.082045    0.000000    5.190000    0.000000    0.449000    5.885500   \n",
       "50%      0.256510    0.000000    9.690000    0.000000    0.538000    6.208500   \n",
       "75%      3.677082   12.500000   18.100000    0.000000    0.624000    6.623500   \n",
       "max     88.976200  100.000000   27.740000    1.000000    0.871000    8.780000   \n",
       "\n",
       "              age         dis         rad         tax     ptratio       black  \\\n",
       "count  506.000000  506.000000  506.000000  506.000000  506.000000  506.000000   \n",
       "mean    68.574901    3.795043    9.549407  408.237154   18.455534  356.674032   \n",
       "std     28.148861    2.105710    8.707259  168.537116    2.164946   91.294864   \n",
       "min      2.900000    1.129600    1.000000  187.000000   12.600000    0.320000   \n",
       "25%     45.025000    2.100175    4.000000  279.000000   17.400000  375.377500   \n",
       "50%     77.500000    3.207450    5.000000  330.000000   19.050000  391.440000   \n",
       "75%     94.075000    5.188425   24.000000  666.000000   20.200000  396.225000   \n",
       "max    100.000000   12.126500   24.000000  711.000000   22.000000  396.900000   \n",
       "\n",
       "            lstat        medv  \n",
       "count  506.000000  506.000000  \n",
       "mean    12.653063   22.532806  \n",
       "std      7.141062    9.197104  \n",
       "min      1.730000    5.000000  \n",
       "25%      6.950000   17.025000  \n",
       "50%     11.360000   21.200000  \n",
       "75%     16.955000   25.000000  \n",
       "max     37.970000   50.000000  "
      ]
     },
     "execution_count": 1,
     "metadata": {},
     "output_type": "execute_result"
    }
   ],
   "source": [
    "#Load pandas library. \n",
    "#create a dataframe using the Boston housing data (df_BHD) \n",
    "#DDescribe the Data\n",
    "\n",
    "import pandas as pd\n",
    "import matplotlib.pyplot as plt\n",
    "import seaborn as sns\n",
    "import numpy as np\n",
    "\n",
    "df_BHD = pd.read_csv(\"data\\data.csv\")\n",
    "df_BHD.describe()\n"
   ]
  },
  {
   "cell_type": "markdown",
   "metadata": {},
   "source": [
    "- The above table provides key description of the data\n",
    "    - Number of data entries in the data set [count]\n",
    "    - Average/Mean of the each column of data in the data set [mean]\n",
    "    - Standard diviation from from the mean of the data set [std]\n",
    "    - Minimum value of the data in the data set [min]\n",
    "    - Maximum value of the data in the data set [max]\n",
    "    \n",
    "- Seabourne distribution plot is used to determine which independent variable to be used within the Boston Housing dataset\n",
    "- Based on the given data and the seabourne distribution plot of the data, the below independent variables doesn't seem to be related to medianvalue of the house\n",
    "    - the crime rate\n",
    "    - proporation of non-retail business acres\n",
    "    - age of the house owners\n",
    "    - distance of the five Boston employment town centres\n",
    "    - index of accessibility to raidal highways\n",
    "    - property tax rate\n",
    "    - Proproation of blacks by towbn\n"
   ]
  },
  {
   "cell_type": "code",
   "execution_count": 2,
   "metadata": {},
   "outputs": [
    {
     "data": {
      "text/plain": [
       "<matplotlib.axes._subplots.AxesSubplot at 0x2c4c19c0ac8>"
      ]
     },
     "execution_count": 2,
     "metadata": {},
     "output_type": "execute_result"
    },
    {
     "data": {
      "image/png": "[encoded data removed]",
      "text/plain": [
       "<Figure size 1872x144 with 8 Axes>"
      ]
     },
     "metadata": {
      "needs_background": "light"
     },
     "output_type": "display_data"
    }
   ],
   "source": [
    "# distribution plot of the independent variables to see which one to pick-up\n",
    "fig, (ax1, ax2, ax3,ax4,ax5,ax6,ax7,ax8) = plt.subplots(1, 8,figsize=(26,2))\n",
    "sns.distplot(df_BHD['crim'],ax=ax1)\n",
    "sns.distplot(df_BHD['indus'],ax=ax2)\n",
    "sns.distplot(df_BHD['chas'],ax=ax3)\n",
    "sns.distplot(df_BHD['nox'],ax=ax4)\n",
    "sns.distplot(df_BHD['age'],ax=ax5)\n",
    "sns.distplot(df_BHD['rad'],ax=ax6)\n",
    "sns.distplot(df_BHD['tax'],ax=ax7)\n",
    "sns.distplot(df_BHD['black'],ax=ax8)"
   ]
  },
  {
   "cell_type": "markdown",
   "metadata": {},
   "source": [
    "### Section 1 & 2: Description and Inference : Number of Bedrooms Vs Median Value of the homes\n",
    "- Median Value of the homes is the dependent variable and the rest of the features in the dataset are indepedent variables\n",
    "- Plot the Median value of the homes and number of bedrooms using seaborn plot to identify any outliers"
   ]
  },
  {
   "cell_type": "code",
   "execution_count": 3,
   "metadata": {},
   "outputs": [
    {
     "name": "stderr",
     "output_type": "stream",
     "text": [
      "C:\\Users\\soman\\Anaconda3\\lib\\site-packages\\ipykernel_launcher.py:16: UserWarning: Boolean Series key will be reindexed to match DataFrame index.\n",
      "  app.launch_new_instance()\n"
     ]
    },
    {
     "data": {
      "image/png": "[encoded data removed]",
      "text/plain": [
       "<Figure size 1296x360 with 3 Axes>"
      ]
     },
     "metadata": {
      "needs_background": "light"
     },
     "output_type": "display_data"
    }
   ],
   "source": [
    "fig, (ax1, ax2, ax3) = plt.subplots(1, 3,figsize=(18,5))\n",
    "\n",
    "# plot the median house value against the number of rooms\n",
    "# remove the outliers. Consider only the data that are with median house of 49 and below\n",
    "# Remove 20 outlier rows from the dataset\n",
    "# House price less than 10 M where the number of rooms are greater than zero\n",
    "# Median value of the about 49M and the number of Rooms\n",
    "\n",
    "#Copy of the dataset.orginal data set\n",
    "df_BHD_subset = df_BHD\n",
    "\n",
    "df_BHD_sub = df_BHD[(df_BHD['medv'] < 10) & (df_BHD['rm'] > 5 ) ]\n",
    "for row in df_BHD_sub.index:\n",
    "    df_BHD_subset = df_BHD_subset.drop(row)\n",
    "\n",
    "df_BHD_subset = df_BHD_subset[(df_BHD['medv'] < 49)]\n",
    "                                              \n",
    "sns.distplot(df_BHD_subset['medv'],ax=ax1)\n",
    "sns.distplot(df_BHD_subset['rm'],ax=ax2)\n",
    "\n",
    "# plot the data (number of rooms  versis  Median House value)\n",
    "ax3.plot(df_BHD_subset['rm'],df_BHD_subset['medv'],'k.', label='Original data')\n",
    "\n",
    "#Calcuate the polyfit co-efficients using numpy\n",
    "#the value of m is 8.05 and the value of c is -28.18\n",
    "m,c = np.polyfit(df_BHD_subset['rm'],df_BHD_subset['medv'], 1)\n",
    "\n",
    "#plot the fitted line\n",
    "ax3.plot(df_BHD_subset['rm'],((8.05 * df_BHD_subset['rm']) -28.18),'b-', label='Best fit line')\n",
    "\n",
    "plt.xlabel('Number of Rooms')\n",
    "plt.ylabel('Median House Value')\n",
    "\n",
    "# Show the plot.\n",
    "plt.show()\n"
   ]
  },
  {
   "cell_type": "code",
   "execution_count": 4,
   "metadata": {},
   "outputs": [
    {
     "data": {
      "text/plain": [
       "array([  8.05466675, -28.17761105])"
      ]
     },
     "execution_count": 4,
     "metadata": {},
     "output_type": "execute_result"
    }
   ],
   "source": [
    "np.polyfit(df_BHD_subset['rm'],df_BHD_subset['medv'], 1)"
   ]
  },
  {
   "cell_type": "markdown",
   "metadata": {},
   "source": [
    "####  Section 1 & 2 :: R-Squred value  ::   Number of Bedrooms Vs Median Value of the homes\n"
   ]
  },
  {
   "cell_type": "code",
   "execution_count": 5,
   "metadata": {},
   "outputs": [
    {
     "name": "stdout",
     "output_type": "stream",
     "text": [
      "coefficient of determination: 0.5001095298788084\n",
      "intercept: [4.8796504]\n",
      "slope: [[0.06208941]]\n"
     ]
    }
   ],
   "source": [
    "# Import packages and classes from sklearn\n",
    "# Use the corrected data (outliers removed)\n",
    "# Create model and fit the curve/line\n",
    "# print the results\n",
    "\n",
    "from sklearn.linear_model import LinearRegression\n",
    "y = df_BHD_subset['rm'].values\n",
    "y = y.reshape((-1,1))\n",
    "x = df_BHD_subset['medv'].values\n",
    "x = x.reshape((-1,1))\n",
    "\n",
    "model = LinearRegression()\n",
    "model.fit(x, y)\n",
    "r_sq = model.score(x, y)\n",
    "print('coefficient of determination:', r_sq)\n",
    "print('intercept:', model.intercept_)\n",
    "print('slope:', model.coef_)\n",
    "\n"
   ]
  },
  {
   "cell_type": "markdown",
   "metadata": {},
   "source": [
    "#### Section 1 & 2 :: Key Findings  ::   Number of Bedrooms Vs Median Value of the homes \n",
    "- The median value of the house is normally distributed with few outliers especially around the value 50\n",
    "- The intial distribution showed outlier data around median house value = 50. There are 16 entries of outlier data is removed from the dataset. \n",
    "- The data is distributed around the median house value 20\n",
    "- The stright line can be expressed in the format y= mx + c. Using polyfit function, the values of m is calucated as 8.05 and the value of c is -28.18. The stright line seems to roughly fits the data.\n",
    "- R-Squred values\n",
    "   - coefficient of determination: 0.5001095298788084\n",
    "   - intercept: 4.8796504\n",
    "   - slope: 0.06208941\n"
   ]
  },
  {
   "cell_type": "markdown",
   "metadata": {},
   "source": [
    "### Section 1 & 2 :: Description & Inference : Lower status of the population (lstat) Vs Median Value of the homes\n",
    "- Median Value of the homes is the dependent variable and the rest of the features in the dataset are indepedent variables\n",
    "- Plot the Median value of the homes and lstat using seaborn plot to identify any outliers"
   ]
  },
  {
   "cell_type": "code",
   "execution_count": 47,
   "metadata": {},
   "outputs": [
    {
     "data": {
      "image/png": "[encoded data removed]",
      "text/plain": [
       "<Figure size 1296x360 with 3 Axes>"
      ]
     },
     "metadata": {},
     "output_type": "display_data"
    }
   ],
   "source": [
    "\n",
    "fig, (ax1, ax2,ax3) = plt.subplots(1, 3,figsize=(18,5))\n",
    "\n",
    "# plot the median house value against the lstat\n",
    "# remove the outliers. \n",
    "#Copy of the dataset.orginal data set\n",
    "\n",
    "df_BHD_slstat = df_BHD[(df_BHD['medv'] <40)]\n",
    "                                              \n",
    "sns.distplot(df_BHD_slstat['medv'],ax=ax1)\n",
    "sns.distplot(df_BHD_slstat['lstat'],ax=ax2)\n",
    "\n",
    "# plot the data (number of rooms  versis  Median House value)\n",
    "ax3.plot(df_BHD_slstat['lstat'],df_BHD_slstat['medv'],'k.', label='Original data')\n",
    "\n",
    "#Calcuate the polyfit co-efficients using numpy\n",
    "#the value of m is -0.75 and the value of c is 30.84\n",
    "np.polyfit(df_BHD_slstat['lstat'],df_BHD_slstat['medv'], 1)\n",
    "\n",
    "#plot the fitted line\n",
    "ax3.plot(df_BHD_slstat['lstat'],((-0.75 * df_BHD_slstat['lstat']) + 30.84),'b-', label='Best fit line')\n",
    "\n",
    "plt.xlabel('lstat')\n",
    "plt.ylabel('Median value of homes')\n",
    "\n",
    "# Show the plot.\n",
    "plt.show()\n",
    "\n"
   ]
  },
  {
   "cell_type": "markdown",
   "metadata": {},
   "source": [
    "####  Section 1 &  2 :: R-Squred value  ::   Lower Status of population and Median Value of the homes"
   ]
  },
  {
   "cell_type": "code",
   "execution_count": 45,
   "metadata": {},
   "outputs": [
    {
     "name": "stdout",
     "output_type": "stream",
     "text": [
      "coefficient of determination: 0.600848885538303\n",
      "intercept: [29.90743951]\n",
      "slope: [[-0.79880106]]\n"
     ]
    }
   ],
   "source": [
    "# Import packages and classes from sklearn\n",
    "# Use the corrected data (outliers removed)\n",
    "# Create model and fit the curve/line\n",
    "# print the results\n",
    "\n",
    "from sklearn.linear_model import LinearRegression\n",
    "y = df_BHD_slstat['lstat'].values\n",
    "y = y.reshape((-1,1))\n",
    "x = df_BHD_slstat['medv'].values\n",
    "x = x.reshape((-1,1))\n",
    "\n",
    "model = LinearRegression()\n",
    "model.fit(x, y)\n",
    "r_sq = model.score(x, y)\n",
    "print('coefficient of determination:', r_sq)\n",
    "print('intercept:', model.intercept_)\n",
    "print('slope:', model.coef_)\n",
    "\n"
   ]
  },
  {
   "cell_type": "markdown",
   "metadata": {},
   "source": [
    "#### Section 1 & 2 :: Key Findings  ::   Lower status of population and Median Value of the homes \n",
    "- The median value of the house is normally distributed with few outliers especially around the value 50\n",
    "- The data is distributed around the median house value 20\n",
    "- The stright line can be expressed in the format y= mx + c. Using polyfit function, the values of m is calucated as -.75 and the value of c is 30.84. The stright line seems to roughly fits the data.\n",
    "- R-Squred values\n",
    "   - coefficient of determination: 0.600848885538303\n",
    "   - intercept: 29.90743951\n",
    "   - slope: -0.79880106\n"
   ]
  },
  {
   "cell_type": "markdown",
   "metadata": {},
   "source": [
    "### Section 1 & 2 :: Description & Inference : pupil-teacher ratio by town (ptratio) Vs Median Value of the homes\n",
    "- Median Value of the homes is the dependent variable and the rest of the features in the dataset are indepedent variables\n",
    "- Plot the Median value of the homes and Ptraio using seaborn plot to identify any outliers\n"
   ]
  },
  {
   "cell_type": "code",
   "execution_count": 46,
   "metadata": {},
   "outputs": [
    {
     "data": {
      "image/png": "[encoded data removed]",
      "text/plain": [
       "<Figure size 1296x360 with 3 Axes>"
      ]
     },
     "metadata": {},
     "output_type": "display_data"
    }
   ],
   "source": [
    "fig, (ax1, ax2,ax3) = plt.subplots(1, 3,figsize=(18,5))\n",
    "\n",
    "# plot the median house value against the ptratio\n",
    "# remove the outliers. \n",
    "#Copy of the dataset.orginal data set\n",
    "\n",
    "df_BHD_ptraio = df_BHD[(df_BHD['ptratio'] >13)]\n",
    "                                              \n",
    "sns.distplot(df_BHD_ptraio['medv'],ax=ax1)\n",
    "sns.distplot(df_BHD_ptraio['ptratio'],ax=ax2)\n",
    "\n",
    "# plot the data (number of rooms  versis  Median House value)\n",
    "ax3.plot(df_BHD_ptraio['ptratio'],df_BHD_ptraio['medv'],'k.', label='Original data')\n",
    "\n",
    "#Calcuate the polyfit co-efficients using numpy\n",
    "#the value of m is -0.84 and the value of c is 32.54\n",
    "-1.59709077, 50.62687252\n",
    "np.polyfit(df_BHD_ptraio['ptratio'],df_BHD_ptraio['medv'], 1)\n",
    "\n",
    "#plot the fitted line\n",
    "ax3.plot(df_BHD_ptraio['ptratio'],((-1.60 * df_BHD_ptraio['ptratio']) + 50.63),'b-', label='Best fit line')\n",
    "\n",
    "plt.xlabel('ptratio')\n",
    "plt.ylabel('Median value of homes')\n",
    "\n",
    "# Show the plot.\n",
    "plt.show()\n"
   ]
  },
  {
   "cell_type": "markdown",
   "metadata": {},
   "source": [
    "####  Section 1 & 2 :: R-Squred value  ::   pupil-teacher ratio by town and Median Value of the homes"
   ]
  },
  {
   "cell_type": "code",
   "execution_count": 9,
   "metadata": {},
   "outputs": [
    {
     "name": "stdout",
     "output_type": "stream",
     "text": [
      "coefficient of determination: 0.2059313261967224\n",
      "intercept: [20.84645673]\n",
      "slope: [[-0.1005716]]\n"
     ]
    }
   ],
   "source": [
    "# Import packages and classes from sklearn\n",
    "# Use the corrected data (outliers removed)\n",
    "# Create model and fit the curve/line\n",
    "# print the results\n",
    "\n",
    "from sklearn.linear_model import LinearRegression\n",
    "y = df_BHD_ptraio['ptratio'].values\n",
    "y = y.reshape((-1,1))\n",
    "x = df_BHD_ptraio['medv'].values\n",
    "x = x.reshape((-1,1))\n",
    "\n",
    "model = LinearRegression()\n",
    "model.fit(x, y)\n",
    "r_sq = model.score(x, y)\n",
    "print('coefficient of determination:', r_sq)\n",
    "print('intercept:', model.intercept_)\n",
    "print('slope:', model.coef_)"
   ]
  },
  {
   "cell_type": "markdown",
   "metadata": {},
   "source": [
    "### T test - Inferential Statistics - House price analysis near charles river \n",
    "\n",
    "- CHAS Charles River dummy variable (= 1 if tract bounds river; 0 otherwise)\n",
    "\n",
    "Key Assumptions: \n",
    "- The samples are independently and randomly drawn\n",
    "- The distribution of the residuals between the two groups should follow the normal distribution\n",
    "- The variances between the two groups are equal"
   ]
  },
  {
   "cell_type": "code",
   "execution_count": 10,
   "metadata": {},
   "outputs": [
    {
     "data": {
      "text/html": [
       "<div>\n",
       "<style scoped>\n",
       "    .dataframe tbody tr th:only-of-type {\n",
       "        vertical-align: middle;\n",
       "    }\n",
       "\n",
       "    .dataframe tbody tr th {\n",
       "        vertical-align: top;\n",
       "    }\n",
       "\n",
       "    .dataframe thead th {\n",
       "        text-align: right;\n",
       "    }\n",
       "</style>\n",
       "<table border=\"1\" class=\"dataframe\">\n",
       "  <thead>\n",
       "    <tr style=\"text-align: right;\">\n",
       "      <th></th>\n",
       "      <th>count</th>\n",
       "      <th>mean</th>\n",
       "      <th>std</th>\n",
       "      <th>min</th>\n",
       "      <th>25%</th>\n",
       "      <th>50%</th>\n",
       "      <th>75%</th>\n",
       "      <th>max</th>\n",
       "    </tr>\n",
       "    <tr>\n",
       "      <th>chas</th>\n",
       "      <th></th>\n",
       "      <th></th>\n",
       "      <th></th>\n",
       "      <th></th>\n",
       "      <th></th>\n",
       "      <th></th>\n",
       "      <th></th>\n",
       "      <th></th>\n",
       "    </tr>\n",
       "  </thead>\n",
       "  <tbody>\n",
       "    <tr>\n",
       "      <th>0</th>\n",
       "      <td>447.0</td>\n",
       "      <td>20.763311</td>\n",
       "      <td>6.841498</td>\n",
       "      <td>5.0</td>\n",
       "      <td>16.200</td>\n",
       "      <td>20.50</td>\n",
       "      <td>24.100</td>\n",
       "      <td>39.8</td>\n",
       "    </tr>\n",
       "    <tr>\n",
       "      <th>1</th>\n",
       "      <td>28.0</td>\n",
       "      <td>23.192857</td>\n",
       "      <td>5.706587</td>\n",
       "      <td>13.4</td>\n",
       "      <td>19.825</td>\n",
       "      <td>22.15</td>\n",
       "      <td>26.775</td>\n",
       "      <td>35.2</td>\n",
       "    </tr>\n",
       "  </tbody>\n",
       "</table>\n",
       "</div>"
      ],
      "text/plain": [
       "      count       mean       std   min     25%    50%     75%   max\n",
       "chas                                                               \n",
       "0     447.0  20.763311  6.841498   5.0  16.200  20.50  24.100  39.8\n",
       "1      28.0  23.192857  5.706587  13.4  19.825  22.15  26.775  35.2"
      ]
     },
     "execution_count": 10,
     "metadata": {},
     "output_type": "execute_result"
    }
   ],
   "source": [
    "# Seabourne plot of median house prices near and far from the charles river\n",
    "import researchpy as rp\n",
    "from scipy import stats\n",
    "\n",
    "#show descriptive Statistics\n",
    "df_BHD_slstat.groupby(\"chas\")['medv'].describe()"
   ]
  },
  {
   "cell_type": "code",
   "execution_count": 11,
   "metadata": {},
   "outputs": [
    {
     "data": {
      "image/png": "[encoded data removed]",
      "text/plain": [
       "<Figure size 1440x504 with 1 Axes>"
      ]
     },
     "metadata": {},
     "output_type": "display_data"
    }
   ],
   "source": [
    "# Distribution of the data \n",
    "# set the map/graph size\n",
    "# filer the median value of the houses based on the nearest to charles river\n",
    "# plot the graph\n",
    "sns.set(rc={'figure.figsize':(20,7)})\n",
    "sns.distplot(df_BHD_slstat.loc[df_BHD_slstat['chas'] == 1, \"medv\"],bins=20,label='Median value of Houses near the Charles river')\n",
    "sns.distplot(df_BHD_slstat.loc[df_BHD_slstat['chas'] == 0, \"medv\"],bins=20,label='Median value of Houses far from the Charles river')\n",
    "\n",
    "plt.legend()\n",
    "plt.show()"
   ]
  },
  {
   "cell_type": "code",
   "execution_count": 12,
   "metadata": {},
   "outputs": [
    {
     "name": "stdout",
     "output_type": "stream",
     "text": [
      "\n",
      "\n"
     ]
    },
    {
     "data": {
      "text/html": [
       "<div>\n",
       "<style scoped>\n",
       "    .dataframe tbody tr th:only-of-type {\n",
       "        vertical-align: middle;\n",
       "    }\n",
       "\n",
       "    .dataframe tbody tr th {\n",
       "        vertical-align: top;\n",
       "    }\n",
       "\n",
       "    .dataframe thead th {\n",
       "        text-align: right;\n",
       "    }\n",
       "</style>\n",
       "<table border=\"1\" class=\"dataframe\">\n",
       "  <thead>\n",
       "    <tr style=\"text-align: right;\">\n",
       "      <th></th>\n",
       "      <th>N</th>\n",
       "      <th>Mean</th>\n",
       "      <th>SD</th>\n",
       "      <th>SE</th>\n",
       "      <th>95% Conf.</th>\n",
       "      <th>Interval</th>\n",
       "    </tr>\n",
       "    <tr>\n",
       "      <th>chas</th>\n",
       "      <th></th>\n",
       "      <th></th>\n",
       "      <th></th>\n",
       "      <th></th>\n",
       "      <th></th>\n",
       "      <th></th>\n",
       "    </tr>\n",
       "  </thead>\n",
       "  <tbody>\n",
       "    <tr>\n",
       "      <th>0</th>\n",
       "      <td>447</td>\n",
       "      <td>20.763311</td>\n",
       "      <td>6.841498</td>\n",
       "      <td>0.323592</td>\n",
       "      <td>20.12836</td>\n",
       "      <td>21.398261</td>\n",
       "    </tr>\n",
       "    <tr>\n",
       "      <th>1</th>\n",
       "      <td>28</td>\n",
       "      <td>23.192857</td>\n",
       "      <td>5.706587</td>\n",
       "      <td>1.078444</td>\n",
       "      <td>21.04032</td>\n",
       "      <td>25.345394</td>\n",
       "    </tr>\n",
       "  </tbody>\n",
       "</table>\n",
       "</div>"
      ],
      "text/plain": [
       "        N       Mean        SD        SE  95% Conf.   Interval\n",
       "chas                                                          \n",
       "0     447  20.763311  6.841498  0.323592   20.12836  21.398261\n",
       "1      28  23.192857  5.706587  1.078444   21.04032  25.345394"
      ]
     },
     "execution_count": 12,
     "metadata": {},
     "output_type": "execute_result"
    }
   ],
   "source": [
    "# Showing descriptive statistics from researchpy.summary_cont()\n",
    "rp.summary_cont(df_BHD_slstat.groupby(\"chas\")['medv'])"
   ]
  },
  {
   "cell_type": "code",
   "execution_count": 13,
   "metadata": {},
   "outputs": [
    {
     "data": {
      "text/plain": [
       "LeveneResult(statistic=1.2559901564309797, pvalue=0.26298014955305266)"
      ]
     },
     "execution_count": 13,
     "metadata": {},
     "output_type": "execute_result"
    }
   ],
   "source": [
    "# Levene's test and calculate the pvalue\n",
    "stats.levene(df_BHD_slstat.loc[df_BHD_slstat['chas'] == 1, \"medv\"], df_BHD_slstat.loc[df_BHD_slstat['chas'] == 0, \"medv\"])"
   ]
  },
  {
   "cell_type": "code",
   "execution_count": 14,
   "metadata": {},
   "outputs": [
    {
     "data": {
      "text/html": [
       "<div>\n",
       "<style scoped>\n",
       "    .dataframe tbody tr th:only-of-type {\n",
       "        vertical-align: middle;\n",
       "    }\n",
       "\n",
       "    .dataframe tbody tr th {\n",
       "        vertical-align: top;\n",
       "    }\n",
       "\n",
       "    .dataframe thead th {\n",
       "        text-align: right;\n",
       "    }\n",
       "</style>\n",
       "<table border=\"1\" class=\"dataframe\">\n",
       "  <thead>\n",
       "    <tr style=\"text-align: right;\">\n",
       "      <th></th>\n",
       "      <th>Independent t-test</th>\n",
       "      <th>results</th>\n",
       "    </tr>\n",
       "  </thead>\n",
       "  <tbody>\n",
       "    <tr>\n",
       "      <th>0</th>\n",
       "      <td>Difference (medv - medv) =</td>\n",
       "      <td>2.4295</td>\n",
       "    </tr>\n",
       "    <tr>\n",
       "      <th>1</th>\n",
       "      <td>Degrees of freedom =</td>\n",
       "      <td>473.0000</td>\n",
       "    </tr>\n",
       "    <tr>\n",
       "      <th>2</th>\n",
       "      <td>t =</td>\n",
       "      <td>1.8389</td>\n",
       "    </tr>\n",
       "    <tr>\n",
       "      <th>3</th>\n",
       "      <td>Two side test p value =</td>\n",
       "      <td>0.0666</td>\n",
       "    </tr>\n",
       "    <tr>\n",
       "      <th>4</th>\n",
       "      <td>Difference &gt; 0 p value =</td>\n",
       "      <td>0.9667</td>\n",
       "    </tr>\n",
       "    <tr>\n",
       "      <th>5</th>\n",
       "      <td>Difference &lt; 0 p value =</td>\n",
       "      <td>0.0333</td>\n",
       "    </tr>\n",
       "    <tr>\n",
       "      <th>6</th>\n",
       "      <td>Cohen's d =</td>\n",
       "      <td>0.3582</td>\n",
       "    </tr>\n",
       "    <tr>\n",
       "      <th>7</th>\n",
       "      <td>Hedge's g =</td>\n",
       "      <td>0.3577</td>\n",
       "    </tr>\n",
       "    <tr>\n",
       "      <th>8</th>\n",
       "      <td>Glass's delta =</td>\n",
       "      <td>0.4257</td>\n",
       "    </tr>\n",
       "    <tr>\n",
       "      <th>9</th>\n",
       "      <td>r =</td>\n",
       "      <td>0.0843</td>\n",
       "    </tr>\n",
       "  </tbody>\n",
       "</table>\n",
       "</div>"
      ],
      "text/plain": [
       "            Independent t-test   results\n",
       "0  Difference (medv - medv) =     2.4295\n",
       "1        Degrees of freedom =   473.0000\n",
       "2                         t =     1.8389\n",
       "3     Two side test p value =     0.0666\n",
       "4    Difference > 0 p value =     0.9667\n",
       "5    Difference < 0 p value =     0.0333\n",
       "6                 Cohen's d =     0.3582\n",
       "7                 Hedge's g =     0.3577\n",
       "8             Glass's delta =     0.4257\n",
       "9                         r =     0.0843"
      ]
     },
     "execution_count": 14,
     "metadata": {},
     "output_type": "execute_result"
    }
   ],
   "source": [
    "# Provides the descriptive t test results\n",
    "\n",
    "descriptives, results = rp.ttest(df_BHD_slstat.loc[df_BHD_slstat['chas'] == 1, \"medv\"], \n",
    "                                 df_BHD_slstat.loc[df_BHD_slstat['chas'] == 0, \"medv\"])\n",
    "\n",
    "descriptives\n",
    "results"
   ]
  },
  {
   "cell_type": "markdown",
   "metadata": {},
   "source": [
    "### Key findings :: T test results\n",
    "- There is no significant difference between the median house prices based on the proximity to the charles river. \n",
    "- There is a statistically NO significant difference based on the house location in charles river ( p> 0.9, r= 0.843). "
   ]
  },
  {
   "cell_type": "markdown",
   "metadata": {},
   "source": [
    "# Section:3    Prediction\n",
    "\n",
    "\n",
    "### Prediction without Pre-Processing\n",
    "- Preparing the data\n",
    "- Building and Training\n",
    "\n",
    "### Prediction with Pre-Processed Data\n",
    "- Pre-Processing\n",
    "    - One-off Scaling : Normalize the range of independent variables or features of data.\n",
    "    - Fitting and Transforming \n",
    "    - Whitening \n",
    "    - Building and Training\n",
    "    \n",
    "### Derive the optimisation and activation parameters    \n",
    "\n",
    "### Evaluate the model using inferred activation and Optimisation parameters\n",
    "\n",
    "\n"
   ]
  },
  {
   "cell_type": "code",
   "execution_count": 15,
   "metadata": {},
   "outputs": [
    {
     "name": "stderr",
     "output_type": "stream",
     "text": [
      "Using TensorFlow backend.\n"
     ]
    }
   ],
   "source": [
    "# For neural networks.\n",
    "import keras as kr\n",
    "# For preprocessing data.\n",
    "import sklearn.preprocessing as pre\n",
    "# For splitting data sets.\n",
    "import sklearn.model_selection as mod\n",
    "# For whitening.\n",
    "import sklearn.decomposition as dec"
   ]
  },
  {
   "cell_type": "code",
   "execution_count": 16,
   "metadata": {},
   "outputs": [
    {
     "name": "stderr",
     "output_type": "stream",
     "text": [
      "C:\\Users\\soman\\Anaconda3\\lib\\site-packages\\ipykernel_launcher.py:7: UserWarning: Boolean Series key will be reindexed to match DataFrame index.\n",
      "  import sys\n"
     ]
    },
    {
     "data": {
      "text/html": [
       "<div>\n",
       "<style scoped>\n",
       "    .dataframe tbody tr th:only-of-type {\n",
       "        vertical-align: middle;\n",
       "    }\n",
       "\n",
       "    .dataframe tbody tr th {\n",
       "        vertical-align: top;\n",
       "    }\n",
       "\n",
       "    .dataframe thead th {\n",
       "        text-align: right;\n",
       "    }\n",
       "</style>\n",
       "<table border=\"1\" class=\"dataframe\">\n",
       "  <thead>\n",
       "    <tr style=\"text-align: right;\">\n",
       "      <th></th>\n",
       "      <th>crim</th>\n",
       "      <th>zn</th>\n",
       "      <th>indus</th>\n",
       "      <th>chas</th>\n",
       "      <th>nox</th>\n",
       "      <th>rm</th>\n",
       "      <th>age</th>\n",
       "      <th>dis</th>\n",
       "      <th>rad</th>\n",
       "      <th>tax</th>\n",
       "      <th>ptratio</th>\n",
       "      <th>black</th>\n",
       "      <th>lstat</th>\n",
       "      <th>medv</th>\n",
       "    </tr>\n",
       "  </thead>\n",
       "  <tbody>\n",
       "    <tr>\n",
       "      <th>0</th>\n",
       "      <td>0.00632</td>\n",
       "      <td>18.0</td>\n",
       "      <td>2.31</td>\n",
       "      <td>0</td>\n",
       "      <td>0.538</td>\n",
       "      <td>6.575</td>\n",
       "      <td>65.2</td>\n",
       "      <td>4.0900</td>\n",
       "      <td>1</td>\n",
       "      <td>296</td>\n",
       "      <td>15.3</td>\n",
       "      <td>396.90</td>\n",
       "      <td>4.98</td>\n",
       "      <td>24.0</td>\n",
       "    </tr>\n",
       "    <tr>\n",
       "      <th>1</th>\n",
       "      <td>0.02731</td>\n",
       "      <td>0.0</td>\n",
       "      <td>7.07</td>\n",
       "      <td>0</td>\n",
       "      <td>0.469</td>\n",
       "      <td>6.421</td>\n",
       "      <td>78.9</td>\n",
       "      <td>4.9671</td>\n",
       "      <td>2</td>\n",
       "      <td>242</td>\n",
       "      <td>17.8</td>\n",
       "      <td>396.90</td>\n",
       "      <td>9.14</td>\n",
       "      <td>21.6</td>\n",
       "    </tr>\n",
       "    <tr>\n",
       "      <th>2</th>\n",
       "      <td>0.02729</td>\n",
       "      <td>0.0</td>\n",
       "      <td>7.07</td>\n",
       "      <td>0</td>\n",
       "      <td>0.469</td>\n",
       "      <td>7.185</td>\n",
       "      <td>61.1</td>\n",
       "      <td>4.9671</td>\n",
       "      <td>2</td>\n",
       "      <td>242</td>\n",
       "      <td>17.8</td>\n",
       "      <td>392.83</td>\n",
       "      <td>4.03</td>\n",
       "      <td>34.7</td>\n",
       "    </tr>\n",
       "    <tr>\n",
       "      <th>3</th>\n",
       "      <td>0.03237</td>\n",
       "      <td>0.0</td>\n",
       "      <td>2.18</td>\n",
       "      <td>0</td>\n",
       "      <td>0.458</td>\n",
       "      <td>6.998</td>\n",
       "      <td>45.8</td>\n",
       "      <td>6.0622</td>\n",
       "      <td>3</td>\n",
       "      <td>222</td>\n",
       "      <td>18.7</td>\n",
       "      <td>394.63</td>\n",
       "      <td>2.94</td>\n",
       "      <td>33.4</td>\n",
       "    </tr>\n",
       "    <tr>\n",
       "      <th>4</th>\n",
       "      <td>0.06905</td>\n",
       "      <td>0.0</td>\n",
       "      <td>2.18</td>\n",
       "      <td>0</td>\n",
       "      <td>0.458</td>\n",
       "      <td>7.147</td>\n",
       "      <td>54.2</td>\n",
       "      <td>6.0622</td>\n",
       "      <td>3</td>\n",
       "      <td>222</td>\n",
       "      <td>18.7</td>\n",
       "      <td>396.90</td>\n",
       "      <td>5.33</td>\n",
       "      <td>36.2</td>\n",
       "    </tr>\n",
       "    <tr>\n",
       "      <th>5</th>\n",
       "      <td>0.02985</td>\n",
       "      <td>0.0</td>\n",
       "      <td>2.18</td>\n",
       "      <td>0</td>\n",
       "      <td>0.458</td>\n",
       "      <td>6.430</td>\n",
       "      <td>58.7</td>\n",
       "      <td>6.0622</td>\n",
       "      <td>3</td>\n",
       "      <td>222</td>\n",
       "      <td>18.7</td>\n",
       "      <td>394.12</td>\n",
       "      <td>5.21</td>\n",
       "      <td>28.7</td>\n",
       "    </tr>\n",
       "    <tr>\n",
       "      <th>6</th>\n",
       "      <td>0.08829</td>\n",
       "      <td>12.5</td>\n",
       "      <td>7.87</td>\n",
       "      <td>0</td>\n",
       "      <td>0.524</td>\n",
       "      <td>6.012</td>\n",
       "      <td>66.6</td>\n",
       "      <td>5.5605</td>\n",
       "      <td>5</td>\n",
       "      <td>311</td>\n",
       "      <td>15.2</td>\n",
       "      <td>395.60</td>\n",
       "      <td>12.43</td>\n",
       "      <td>22.9</td>\n",
       "    </tr>\n",
       "    <tr>\n",
       "      <th>7</th>\n",
       "      <td>0.14455</td>\n",
       "      <td>12.5</td>\n",
       "      <td>7.87</td>\n",
       "      <td>0</td>\n",
       "      <td>0.524</td>\n",
       "      <td>6.172</td>\n",
       "      <td>96.1</td>\n",
       "      <td>5.9505</td>\n",
       "      <td>5</td>\n",
       "      <td>311</td>\n",
       "      <td>15.2</td>\n",
       "      <td>396.90</td>\n",
       "      <td>19.15</td>\n",
       "      <td>27.1</td>\n",
       "    </tr>\n",
       "    <tr>\n",
       "      <th>8</th>\n",
       "      <td>0.21124</td>\n",
       "      <td>12.5</td>\n",
       "      <td>7.87</td>\n",
       "      <td>0</td>\n",
       "      <td>0.524</td>\n",
       "      <td>5.631</td>\n",
       "      <td>100.0</td>\n",
       "      <td>6.0821</td>\n",
       "      <td>5</td>\n",
       "      <td>311</td>\n",
       "      <td>15.2</td>\n",
       "      <td>386.63</td>\n",
       "      <td>29.93</td>\n",
       "      <td>16.5</td>\n",
       "    </tr>\n",
       "    <tr>\n",
       "      <th>9</th>\n",
       "      <td>0.17004</td>\n",
       "      <td>12.5</td>\n",
       "      <td>7.87</td>\n",
       "      <td>0</td>\n",
       "      <td>0.524</td>\n",
       "      <td>6.004</td>\n",
       "      <td>85.9</td>\n",
       "      <td>6.5921</td>\n",
       "      <td>5</td>\n",
       "      <td>311</td>\n",
       "      <td>15.2</td>\n",
       "      <td>386.71</td>\n",
       "      <td>17.10</td>\n",
       "      <td>18.9</td>\n",
       "    </tr>\n",
       "  </tbody>\n",
       "</table>\n",
       "</div>"
      ],
      "text/plain": [
       "      crim    zn  indus  chas    nox     rm    age     dis  rad  tax  ptratio  \\\n",
       "0  0.00632  18.0   2.31     0  0.538  6.575   65.2  4.0900    1  296     15.3   \n",
       "1  0.02731   0.0   7.07     0  0.469  6.421   78.9  4.9671    2  242     17.8   \n",
       "2  0.02729   0.0   7.07     0  0.469  7.185   61.1  4.9671    2  242     17.8   \n",
       "3  0.03237   0.0   2.18     0  0.458  6.998   45.8  6.0622    3  222     18.7   \n",
       "4  0.06905   0.0   2.18     0  0.458  7.147   54.2  6.0622    3  222     18.7   \n",
       "5  0.02985   0.0   2.18     0  0.458  6.430   58.7  6.0622    3  222     18.7   \n",
       "6  0.08829  12.5   7.87     0  0.524  6.012   66.6  5.5605    5  311     15.2   \n",
       "7  0.14455  12.5   7.87     0  0.524  6.172   96.1  5.9505    5  311     15.2   \n",
       "8  0.21124  12.5   7.87     0  0.524  5.631  100.0  6.0821    5  311     15.2   \n",
       "9  0.17004  12.5   7.87     0  0.524  6.004   85.9  6.5921    5  311     15.2   \n",
       "\n",
       "    black  lstat  medv  \n",
       "0  396.90   4.98  24.0  \n",
       "1  396.90   9.14  21.6  \n",
       "2  392.83   4.03  34.7  \n",
       "3  394.63   2.94  33.4  \n",
       "4  396.90   5.33  36.2  \n",
       "5  394.12   5.21  28.7  \n",
       "6  395.60  12.43  22.9  \n",
       "7  396.90  19.15  27.1  \n",
       "8  386.63  29.93  16.5  \n",
       "9  386.71  17.10  18.9  "
      ]
     },
     "execution_count": 16,
     "metadata": {},
     "output_type": "execute_result"
    }
   ],
   "source": [
    "df_BHD_rmOutliers = df_BHD\n",
    "\n",
    "df_BHD_sub = df_BHD[(df_BHD['medv'] < 10) & (df_BHD['rm'] > 5 ) ]\n",
    "for row in df_BHD_sub.index:\n",
    "    df_BHD_rmOutliers = df_BHD_rmOutliers.drop(row)\n",
    "\n",
    "df_BHD_rmOutliers = df_BHD_rmOutliers[(df_BHD['medv'] < 49)]\n",
    "\n",
    "df_BHD_rmOutliers.head(10)"
   ]
  },
  {
   "cell_type": "code",
   "execution_count": 17,
   "metadata": {},
   "outputs": [
    {
     "data": {
      "text/html": [
       "<div>\n",
       "<style scoped>\n",
       "    .dataframe tbody tr th:only-of-type {\n",
       "        vertical-align: middle;\n",
       "    }\n",
       "\n",
       "    .dataframe tbody tr th {\n",
       "        vertical-align: top;\n",
       "    }\n",
       "\n",
       "    .dataframe thead th {\n",
       "        text-align: right;\n",
       "    }\n",
       "</style>\n",
       "<table border=\"1\" class=\"dataframe\">\n",
       "  <thead>\n",
       "    <tr style=\"text-align: right;\">\n",
       "      <th></th>\n",
       "      <th>rm</th>\n",
       "      <th>ptratio</th>\n",
       "      <th>lstat</th>\n",
       "      <th>medv</th>\n",
       "    </tr>\n",
       "  </thead>\n",
       "  <tbody>\n",
       "    <tr>\n",
       "      <th>0</th>\n",
       "      <td>6.575</td>\n",
       "      <td>15.3</td>\n",
       "      <td>4.98</td>\n",
       "      <td>24.0</td>\n",
       "    </tr>\n",
       "    <tr>\n",
       "      <th>1</th>\n",
       "      <td>6.421</td>\n",
       "      <td>17.8</td>\n",
       "      <td>9.14</td>\n",
       "      <td>21.6</td>\n",
       "    </tr>\n",
       "    <tr>\n",
       "      <th>2</th>\n",
       "      <td>7.185</td>\n",
       "      <td>17.8</td>\n",
       "      <td>4.03</td>\n",
       "      <td>34.7</td>\n",
       "    </tr>\n",
       "    <tr>\n",
       "      <th>3</th>\n",
       "      <td>6.998</td>\n",
       "      <td>18.7</td>\n",
       "      <td>2.94</td>\n",
       "      <td>33.4</td>\n",
       "    </tr>\n",
       "    <tr>\n",
       "      <th>4</th>\n",
       "      <td>7.147</td>\n",
       "      <td>18.7</td>\n",
       "      <td>5.33</td>\n",
       "      <td>36.2</td>\n",
       "    </tr>\n",
       "    <tr>\n",
       "      <th>5</th>\n",
       "      <td>6.430</td>\n",
       "      <td>18.7</td>\n",
       "      <td>5.21</td>\n",
       "      <td>28.7</td>\n",
       "    </tr>\n",
       "    <tr>\n",
       "      <th>6</th>\n",
       "      <td>6.012</td>\n",
       "      <td>15.2</td>\n",
       "      <td>12.43</td>\n",
       "      <td>22.9</td>\n",
       "    </tr>\n",
       "    <tr>\n",
       "      <th>7</th>\n",
       "      <td>6.172</td>\n",
       "      <td>15.2</td>\n",
       "      <td>19.15</td>\n",
       "      <td>27.1</td>\n",
       "    </tr>\n",
       "    <tr>\n",
       "      <th>8</th>\n",
       "      <td>5.631</td>\n",
       "      <td>15.2</td>\n",
       "      <td>29.93</td>\n",
       "      <td>16.5</td>\n",
       "    </tr>\n",
       "    <tr>\n",
       "      <th>9</th>\n",
       "      <td>6.004</td>\n",
       "      <td>15.2</td>\n",
       "      <td>17.10</td>\n",
       "      <td>18.9</td>\n",
       "    </tr>\n",
       "  </tbody>\n",
       "</table>\n",
       "</div>"
      ],
      "text/plain": [
       "      rm  ptratio  lstat  medv\n",
       "0  6.575     15.3   4.98  24.0\n",
       "1  6.421     17.8   9.14  21.6\n",
       "2  7.185     17.8   4.03  34.7\n",
       "3  6.998     18.7   2.94  33.4\n",
       "4  7.147     18.7   5.33  36.2\n",
       "5  6.430     18.7   5.21  28.7\n",
       "6  6.012     15.2  12.43  22.9\n",
       "7  6.172     15.2  19.15  27.1\n",
       "8  5.631     15.2  29.93  16.5\n",
       "9  6.004     15.2  17.10  18.9"
      ]
     },
     "execution_count": 17,
     "metadata": {},
     "output_type": "execute_result"
    }
   ],
   "source": [
    "# Based on the data analysis; used only below features for the prediction\n",
    "# input ::  rm - Number of Rooms\n",
    "# input ::  LSTAT - Lower status of population\n",
    "# input ::  ptratio - Teacher - pupil ratio\n",
    "# input ::  Chas - House near charles river\n",
    "# Target/Output :: Median value of the homes\n",
    "\n",
    "x = df_BHD_rmOutliers.iloc [:,[5,10,12,13]]\n",
    "x.head(10)\n"
   ]
  },
  {
   "cell_type": "code",
   "execution_count": 18,
   "metadata": {},
   "outputs": [
    {
     "data": {
      "text/html": [
       "<div>\n",
       "<style scoped>\n",
       "    .dataframe tbody tr th:only-of-type {\n",
       "        vertical-align: middle;\n",
       "    }\n",
       "\n",
       "    .dataframe tbody tr th {\n",
       "        vertical-align: top;\n",
       "    }\n",
       "\n",
       "    .dataframe thead th {\n",
       "        text-align: right;\n",
       "    }\n",
       "</style>\n",
       "<table border=\"1\" class=\"dataframe\">\n",
       "  <thead>\n",
       "    <tr style=\"text-align: right;\">\n",
       "      <th></th>\n",
       "      <th>rm</th>\n",
       "      <th>ptratio</th>\n",
       "      <th>lstat</th>\n",
       "    </tr>\n",
       "  </thead>\n",
       "  <tbody>\n",
       "    <tr>\n",
       "      <th>0</th>\n",
       "      <td>6.575</td>\n",
       "      <td>15.3</td>\n",
       "      <td>4.98</td>\n",
       "    </tr>\n",
       "    <tr>\n",
       "      <th>1</th>\n",
       "      <td>6.421</td>\n",
       "      <td>17.8</td>\n",
       "      <td>9.14</td>\n",
       "    </tr>\n",
       "  </tbody>\n",
       "</table>\n",
       "</div>"
      ],
      "text/plain": [
       "      rm  ptratio  lstat\n",
       "0  6.575     15.3   4.98\n",
       "1  6.421     17.8   9.14"
      ]
     },
     "execution_count": 18,
     "metadata": {},
     "output_type": "execute_result"
    }
   ],
   "source": [
    "x = df_BHD_rmOutliers[['rm', 'ptratio', 'lstat']]\n",
    "y = df_BHD_rmOutliers['medv']\n",
    "x.head(2)"
   ]
  },
  {
   "cell_type": "code",
   "execution_count": 19,
   "metadata": {},
   "outputs": [
    {
     "data": {
      "text/plain": [
       "0    24.0\n",
       "1    21.6\n",
       "Name: medv, dtype: float64"
      ]
     },
     "execution_count": 19,
     "metadata": {},
     "output_type": "execute_result"
    }
   ],
   "source": [
    "y.head(2)"
   ]
  },
  {
   "cell_type": "code",
   "execution_count": 20,
   "metadata": {},
   "outputs": [],
   "source": [
    "x_train, x_test, y_train, y_test = mod.train_test_split(x, y, test_size=0.2)"
   ]
  },
  {
   "cell_type": "markdown",
   "metadata": {},
   "source": [
    "### Building and Training"
   ]
  },
  {
   "cell_type": "code",
   "execution_count": 21,
   "metadata": {},
   "outputs": [],
   "source": [
    "m = kr.models.Sequential()\n",
    "\n",
    "m.add(kr.layers.Dense(20, input_dim=3, activation=\"sigmoid\"))\n",
    "m.add(kr.layers.Dense(100, activation=\"softplus\"))\n",
    "m.add(kr.layers.Dense(1, activation=\"linear\"))\n",
    "\n",
    "m.compile(loss=\"mean_squared_error\", optimizer=\"adam\", metrics=['accuracy'])"
   ]
  },
  {
   "cell_type": "code",
   "execution_count": 22,
   "metadata": {},
   "outputs": [
    {
     "data": {
      "text/plain": [
       "<keras.callbacks.callbacks.History at 0x2c4ca237240>"
      ]
     },
     "execution_count": 22,
     "metadata": {},
     "output_type": "execute_result"
    }
   ],
   "source": [
    "m.fit(x_train, y_train, epochs=100, batch_size=10, verbose=0)"
   ]
  },
  {
   "cell_type": "code",
   "execution_count": 23,
   "metadata": {},
   "outputs": [
    {
     "data": {
      "text/plain": [
       "array([[16., 21., 32., 23., 27., 18., 28., 16., 16., 17., 22., 20., 19.,\n",
       "        22., 16., 20., 20., 35., 14., 22., 14., 30., 19., 17., 19., 18.,\n",
       "        21., 20., 25., 23., 15., 15., 18., 18., 17., 22., 20., 25., 23.,\n",
       "        19., 17., 34., 15., 19., 24., 22., 18., 18., 26., 21., 20., 24.,\n",
       "        37., 13., 21., 23., 27., 18., 22., 16., 19., 19., 23., 19., 18.,\n",
       "        27., 17., 22., 22., 28., 33., 26., 14., 15., 15., 33., 16., 21.,\n",
       "        18., 16., 17., 16., 41., 17., 13., 28., 20., 16., 20., 26., 15.,\n",
       "        14., 23., 24.]], dtype=float32)"
      ]
     },
     "execution_count": 23,
     "metadata": {},
     "output_type": "execute_result"
    }
   ],
   "source": [
    "m.predict(x_test).round().T"
   ]
  },
  {
   "cell_type": "code",
   "execution_count": 24,
   "metadata": {},
   "outputs": [
    {
     "name": "stderr",
     "output_type": "stream",
     "text": [
      "C:\\Users\\soman\\Anaconda3\\lib\\site-packages\\ipykernel_launcher.py:1: FutureWarning: Method .as_matrix will be removed in a future version. Use .values instead.\n",
      "  \"\"\"Entry point for launching an IPython kernel.\n"
     ]
    },
    {
     "data": {
      "text/plain": [
       "array([23.1, 21.2, 35.4, 26.5, 16.5, 19.6, 27.1, 23.2, 17.8, 14.5, 21.2,\n",
       "       15. , 21.2, 21.5, 22.5, 17.1, 21. , 34.9, 17.2, 20.6, 12.3, 31.6,\n",
       "       21.7, 19.5, 15.6, 20.8, 21.4, 23. , 23.6, 23.2, 13.4, 17.8, 14.3,\n",
       "       20.6, 20.1, 20.4, 20. , 25.1, 22.9, 21.7, 16.6, 32. , 13.4, 15. ,\n",
       "       22.9, 27.5, 19.4, 20.3, 26.7, 20. , 22.5, 24.2, 46.7, 13.8, 20.8,\n",
       "       23.8, 23.9, 17.1, 19.3, 10.9, 19.2, 19.6, 23.9, 18.5, 20. , 32.5,\n",
       "       18.9, 29.8, 19.1, 22. , 29.8, 33. , 17.3, 13.4, 11.5, 34.7, 14.8,\n",
       "       22.4, 18. , 13.5, 27.5, 23.1, 48.8, 22.4,  7. , 24.1, 19.9, 17.8,\n",
       "       21.7, 23.2, 13.3, 19.3, 21.6, 25.2], dtype=float32)"
      ]
     },
     "execution_count": 24,
     "metadata": {},
     "output_type": "execute_result"
    }
   ],
   "source": [
    "y_test.as_matrix().astype(np.float32)"
   ]
  },
  {
   "cell_type": "code",
   "execution_count": 25,
   "metadata": {},
   "outputs": [
    {
     "name": "stdout",
     "output_type": "stream",
     "text": [
      "94/94 [==============================] - 0s 850us/step\n"
     ]
    },
    {
     "data": {
      "text/plain": [
       "[13.239118657213576, 0.021276595070958138]"
      ]
     },
     "execution_count": 25,
     "metadata": {},
     "output_type": "execute_result"
    }
   ],
   "source": [
    "m.evaluate(x_test, y_test)"
   ]
  },
  {
   "cell_type": "code",
   "execution_count": 26,
   "metadata": {},
   "outputs": [],
   "source": [
    "# Based on the data analysis; used only below features for the prediction\n",
    "# input ::  rm - Number of Rooms\n",
    "# input ::  LSTAT - Lower status of population\n",
    "# input ::  ptratio - Teacher - pupil ratio\n",
    "# Target/Output :: Median value of the homes\n",
    "\n",
    "x = df_BHD_rmOutliers.iloc [:,[5,10,12]]"
   ]
  },
  {
   "cell_type": "markdown",
   "metadata": {},
   "source": [
    "#### One-off Scaling"
   ]
  },
  {
   "cell_type": "code",
   "execution_count": 27,
   "metadata": {},
   "outputs": [
    {
     "data": {
      "text/html": [
       "<div>\n",
       "<style scoped>\n",
       "    .dataframe tbody tr th:only-of-type {\n",
       "        vertical-align: middle;\n",
       "    }\n",
       "\n",
       "    .dataframe tbody tr th {\n",
       "        vertical-align: top;\n",
       "    }\n",
       "\n",
       "    .dataframe thead th {\n",
       "        text-align: right;\n",
       "    }\n",
       "</style>\n",
       "<table border=\"1\" class=\"dataframe\">\n",
       "  <thead>\n",
       "    <tr style=\"text-align: right;\">\n",
       "      <th></th>\n",
       "      <th>rm</th>\n",
       "      <th>ptratio</th>\n",
       "      <th>lstat</th>\n",
       "    </tr>\n",
       "  </thead>\n",
       "  <tbody>\n",
       "    <tr>\n",
       "      <th>0</th>\n",
       "      <td>0.479554</td>\n",
       "      <td>-1.480447</td>\n",
       "      <td>-1.110281</td>\n",
       "    </tr>\n",
       "    <tr>\n",
       "      <th>1</th>\n",
       "      <td>0.243901</td>\n",
       "      <td>-0.303697</td>\n",
       "      <td>-0.484956</td>\n",
       "    </tr>\n",
       "    <tr>\n",
       "      <th>2</th>\n",
       "      <td>1.412984</td>\n",
       "      <td>-0.303697</td>\n",
       "      <td>-1.253084</td>\n",
       "    </tr>\n",
       "    <tr>\n",
       "      <th>3</th>\n",
       "      <td>1.126834</td>\n",
       "      <td>0.119933</td>\n",
       "      <td>-1.416931</td>\n",
       "    </tr>\n",
       "    <tr>\n",
       "      <th>4</th>\n",
       "      <td>1.354836</td>\n",
       "      <td>0.119933</td>\n",
       "      <td>-1.057670</td>\n",
       "    </tr>\n",
       "    <tr>\n",
       "      <th>5</th>\n",
       "      <td>0.257673</td>\n",
       "      <td>0.119933</td>\n",
       "      <td>-1.075708</td>\n",
       "    </tr>\n",
       "    <tr>\n",
       "      <th>6</th>\n",
       "      <td>-0.381956</td>\n",
       "      <td>-1.527517</td>\n",
       "      <td>0.009593</td>\n",
       "    </tr>\n",
       "    <tr>\n",
       "      <th>7</th>\n",
       "      <td>-0.137122</td>\n",
       "      <td>-1.527517</td>\n",
       "      <td>1.019734</td>\n",
       "    </tr>\n",
       "    <tr>\n",
       "      <th>8</th>\n",
       "      <td>-0.964968</td>\n",
       "      <td>-1.527517</td>\n",
       "      <td>2.640170</td>\n",
       "    </tr>\n",
       "    <tr>\n",
       "      <th>9</th>\n",
       "      <td>-0.394198</td>\n",
       "      <td>-1.527517</td>\n",
       "      <td>0.711581</td>\n",
       "    </tr>\n",
       "  </tbody>\n",
       "</table>\n",
       "</div>"
      ],
      "text/plain": [
       "         rm   ptratio     lstat\n",
       "0  0.479554 -1.480447 -1.110281\n",
       "1  0.243901 -0.303697 -0.484956\n",
       "2  1.412984 -0.303697 -1.253084\n",
       "3  1.126834  0.119933 -1.416931\n",
       "4  1.354836  0.119933 -1.057670\n",
       "5  0.257673  0.119933 -1.075708\n",
       "6 -0.381956 -1.527517  0.009593\n",
       "7 -0.137122 -1.527517  1.019734\n",
       "8 -0.964968 -1.527517  2.640170\n",
       "9 -0.394198 -1.527517  0.711581"
      ]
     },
     "execution_count": 27,
     "metadata": {},
     "output_type": "execute_result"
    }
   ],
   "source": [
    "xscale = pd.DataFrame(pre.scale(x), columns=x.columns)\n",
    "xscale.head(10)"
   ]
  },
  {
   "cell_type": "markdown",
   "metadata": {},
   "source": [
    "### Fitting and Transforming"
   ]
  },
  {
   "cell_type": "code",
   "execution_count": 28,
   "metadata": {},
   "outputs": [
    {
     "data": {
      "text/plain": [
       "(array([ 6.288704  , 18.376     , 12.10066667]),\n",
       " array([0.64459239, 2.14238745, 6.59823106]))"
      ]
     },
     "execution_count": 28,
     "metadata": {},
     "output_type": "execute_result"
    }
   ],
   "source": [
    "scaler = pre.StandardScaler()\n",
    "scaler.fit(x_train)\n",
    "x_train_scaled = scaler.transform(x_train)\n",
    "scaler.mean_, scaler.scale_\n"
   ]
  },
  {
   "cell_type": "code",
   "execution_count": 29,
   "metadata": {},
   "outputs": [],
   "source": [
    "m = kr.models.Sequential()\n",
    "\n",
    "m.add(kr.layers.Dense(20, input_dim=3, activation=\"sigmoid\"))\n",
    "m.add(kr.layers.Dense(100, activation=\"softplus\"))\n",
    "m.add(kr.layers.Dense(1, activation=\"linear\"))\n",
    "\n",
    "m.compile(loss=\"mean_squared_error\", optimizer=\"adam\", metrics=['accuracy'])"
   ]
  },
  {
   "cell_type": "code",
   "execution_count": 30,
   "metadata": {},
   "outputs": [
    {
     "data": {
      "text/plain": [
       "<keras.callbacks.callbacks.History at 0x2c4cbac1c18>"
      ]
     },
     "execution_count": 30,
     "metadata": {},
     "output_type": "execute_result"
    }
   ],
   "source": [
    "m.fit(x_train_scaled, y_train, epochs=100, batch_size=10, verbose=0)"
   ]
  },
  {
   "cell_type": "code",
   "execution_count": 31,
   "metadata": {},
   "outputs": [
    {
     "data": {
      "text/plain": [
       "array([[15., 21., 32., 24., 27., 17., 28., 15., 15., 17., 22., 18., 18.,\n",
       "        22., 16., 19., 21., 34., 13., 22., 13., 31., 19., 15., 19., 16.,\n",
       "        21., 20., 25., 22., 14., 14., 18., 17., 16., 21., 18., 25., 23.,\n",
       "        18., 17., 31., 15., 20., 25., 23., 17., 18., 27., 21., 19., 24.,\n",
       "        35., 10., 21., 24., 27., 18., 21., 16., 19., 19., 23., 17., 17.,\n",
       "        27., 16., 23., 22., 27., 30., 28., 14., 16., 13., 32., 16., 22.,\n",
       "        18., 16., 13., 12., 40., 17., 10., 26., 19., 16., 20., 25., 14.,\n",
       "        13., 23., 24.]], dtype=float32)"
      ]
     },
     "execution_count": 31,
     "metadata": {},
     "output_type": "execute_result"
    }
   ],
   "source": [
    "x_test_scaled = scaler.transform(x_test)\n",
    "m.predict(x_test_scaled).round().T"
   ]
  },
  {
   "cell_type": "code",
   "execution_count": 32,
   "metadata": {},
   "outputs": [
    {
     "name": "stderr",
     "output_type": "stream",
     "text": [
      "C:\\Users\\soman\\Anaconda3\\lib\\site-packages\\ipykernel_launcher.py:1: FutureWarning: Method .as_matrix will be removed in a future version. Use .values instead.\n",
      "  \"\"\"Entry point for launching an IPython kernel.\n"
     ]
    },
    {
     "data": {
      "text/plain": [
       "array([23.1, 21.2, 35.4, 26.5, 16.5, 19.6, 27.1, 23.2, 17.8, 14.5, 21.2,\n",
       "       15. , 21.2, 21.5, 22.5, 17.1, 21. , 34.9, 17.2, 20.6, 12.3, 31.6,\n",
       "       21.7, 19.5, 15.6, 20.8, 21.4, 23. , 23.6, 23.2, 13.4, 17.8, 14.3,\n",
       "       20.6, 20.1, 20.4, 20. , 25.1, 22.9, 21.7, 16.6, 32. , 13.4, 15. ,\n",
       "       22.9, 27.5, 19.4, 20.3, 26.7, 20. , 22.5, 24.2, 46.7, 13.8, 20.8,\n",
       "       23.8, 23.9, 17.1, 19.3, 10.9, 19.2, 19.6, 23.9, 18.5, 20. , 32.5,\n",
       "       18.9, 29.8, 19.1, 22. , 29.8, 33. , 17.3, 13.4, 11.5, 34.7, 14.8,\n",
       "       22.4, 18. , 13.5, 27.5, 23.1, 48.8, 22.4,  7. , 24.1, 19.9, 17.8,\n",
       "       21.7, 23.2, 13.3, 19.3, 21.6, 25.2], dtype=float32)"
      ]
     },
     "execution_count": 32,
     "metadata": {},
     "output_type": "execute_result"
    }
   ],
   "source": [
    "y_test.as_matrix().astype(np.float32)"
   ]
  },
  {
   "cell_type": "code",
   "execution_count": 33,
   "metadata": {},
   "outputs": [
    {
     "name": "stdout",
     "output_type": "stream",
     "text": [
      "94/94 [==============================] - 0s 940us/step\n"
     ]
    },
    {
     "data": {
      "text/plain": [
       "[15.29541218534429, 0.021276595070958138]"
      ]
     },
     "execution_count": 33,
     "metadata": {},
     "output_type": "execute_result"
    }
   ],
   "source": [
    "m.evaluate(x_test_scaled, y_test)"
   ]
  },
  {
   "cell_type": "markdown",
   "metadata": {},
   "source": [
    "### whitening"
   ]
  },
  {
   "cell_type": "code",
   "execution_count": 34,
   "metadata": {},
   "outputs": [
    {
     "data": {
      "text/html": [
       "<div>\n",
       "<style scoped>\n",
       "    .dataframe tbody tr th:only-of-type {\n",
       "        vertical-align: middle;\n",
       "    }\n",
       "\n",
       "    .dataframe tbody tr th {\n",
       "        vertical-align: top;\n",
       "    }\n",
       "\n",
       "    .dataframe thead th {\n",
       "        text-align: right;\n",
       "    }\n",
       "</style>\n",
       "<table border=\"1\" class=\"dataframe\">\n",
       "  <thead>\n",
       "    <tr style=\"text-align: right;\">\n",
       "      <th></th>\n",
       "      <th>rm</th>\n",
       "      <th>ptratio</th>\n",
       "      <th>lstat</th>\n",
       "    </tr>\n",
       "  </thead>\n",
       "  <tbody>\n",
       "    <tr>\n",
       "      <th>rm</th>\n",
       "      <td>1.000000</td>\n",
       "      <td>-0.295416</td>\n",
       "      <td>-0.636973</td>\n",
       "    </tr>\n",
       "    <tr>\n",
       "      <th>ptratio</th>\n",
       "      <td>-0.295416</td>\n",
       "      <td>1.000000</td>\n",
       "      <td>0.346894</td>\n",
       "    </tr>\n",
       "    <tr>\n",
       "      <th>lstat</th>\n",
       "      <td>-0.636973</td>\n",
       "      <td>0.346894</td>\n",
       "      <td>1.000000</td>\n",
       "    </tr>\n",
       "  </tbody>\n",
       "</table>\n",
       "</div>"
      ],
      "text/plain": [
       "               rm   ptratio     lstat\n",
       "rm       1.000000 -0.295416 -0.636973\n",
       "ptratio -0.295416  1.000000  0.346894\n",
       "lstat   -0.636973  0.346894  1.000000"
      ]
     },
     "execution_count": 34,
     "metadata": {},
     "output_type": "execute_result"
    }
   ],
   "source": [
    "x_train.corr()"
   ]
  },
  {
   "cell_type": "code",
   "execution_count": 35,
   "metadata": {},
   "outputs": [
    {
     "data": {
      "text/html": [
       "<div>\n",
       "<style scoped>\n",
       "    .dataframe tbody tr th:only-of-type {\n",
       "        vertical-align: middle;\n",
       "    }\n",
       "\n",
       "    .dataframe tbody tr th {\n",
       "        vertical-align: top;\n",
       "    }\n",
       "\n",
       "    .dataframe thead th {\n",
       "        text-align: right;\n",
       "    }\n",
       "</style>\n",
       "<table border=\"1\" class=\"dataframe\">\n",
       "  <thead>\n",
       "    <tr style=\"text-align: right;\">\n",
       "      <th></th>\n",
       "      <th>rm</th>\n",
       "      <th>ptratio</th>\n",
       "      <th>lstat</th>\n",
       "    </tr>\n",
       "  </thead>\n",
       "  <tbody>\n",
       "    <tr>\n",
       "      <th>0</th>\n",
       "      <td>-0.274609</td>\n",
       "      <td>-0.534685</td>\n",
       "      <td>-0.844742</td>\n",
       "    </tr>\n",
       "    <tr>\n",
       "      <th>1</th>\n",
       "      <td>-0.480712</td>\n",
       "      <td>2.521256</td>\n",
       "      <td>1.255513</td>\n",
       "    </tr>\n",
       "    <tr>\n",
       "      <th>2</th>\n",
       "      <td>0.878503</td>\n",
       "      <td>-0.551097</td>\n",
       "      <td>0.888544</td>\n",
       "    </tr>\n",
       "    <tr>\n",
       "      <th>3</th>\n",
       "      <td>-0.313189</td>\n",
       "      <td>-0.147452</td>\n",
       "      <td>-0.894978</td>\n",
       "    </tr>\n",
       "    <tr>\n",
       "      <th>4</th>\n",
       "      <td>-0.863889</td>\n",
       "      <td>-0.118588</td>\n",
       "      <td>-0.257182</td>\n",
       "    </tr>\n",
       "    <tr>\n",
       "      <th>5</th>\n",
       "      <td>0.678751</td>\n",
       "      <td>-0.635920</td>\n",
       "      <td>0.544257</td>\n",
       "    </tr>\n",
       "    <tr>\n",
       "      <th>6</th>\n",
       "      <td>-0.868606</td>\n",
       "      <td>1.244153</td>\n",
       "      <td>0.173281</td>\n",
       "    </tr>\n",
       "    <tr>\n",
       "      <th>7</th>\n",
       "      <td>0.237785</td>\n",
       "      <td>-0.018349</td>\n",
       "      <td>-0.546450</td>\n",
       "    </tr>\n",
       "    <tr>\n",
       "      <th>8</th>\n",
       "      <td>1.033298</td>\n",
       "      <td>-0.892279</td>\n",
       "      <td>0.641487</td>\n",
       "    </tr>\n",
       "    <tr>\n",
       "      <th>9</th>\n",
       "      <td>0.490587</td>\n",
       "      <td>-0.715462</td>\n",
       "      <td>0.274251</td>\n",
       "    </tr>\n",
       "  </tbody>\n",
       "</table>\n",
       "</div>"
      ],
      "text/plain": [
       "         rm   ptratio     lstat\n",
       "0 -0.274609 -0.534685 -0.844742\n",
       "1 -0.480712  2.521256  1.255513\n",
       "2  0.878503 -0.551097  0.888544\n",
       "3 -0.313189 -0.147452 -0.894978\n",
       "4 -0.863889 -0.118588 -0.257182\n",
       "5  0.678751 -0.635920  0.544257\n",
       "6 -0.868606  1.244153  0.173281\n",
       "7  0.237785 -0.018349 -0.546450\n",
       "8  1.033298 -0.892279  0.641487\n",
       "9  0.490587 -0.715462  0.274251"
      ]
     },
     "execution_count": 35,
     "metadata": {},
     "output_type": "execute_result"
    }
   ],
   "source": [
    "pca = dec.PCA(n_components=3, whiten=True)\n",
    "pca.fit(x_train)\n",
    "x_train_white = pd.DataFrame(pca.transform(x_train), columns=x.columns)\n",
    "x_train_white.head(10)"
   ]
  },
  {
   "cell_type": "code",
   "execution_count": 36,
   "metadata": {},
   "outputs": [
    {
     "data": {
      "text/html": [
       "<div>\n",
       "<style scoped>\n",
       "    .dataframe tbody tr th:only-of-type {\n",
       "        vertical-align: middle;\n",
       "    }\n",
       "\n",
       "    .dataframe tbody tr th {\n",
       "        vertical-align: top;\n",
       "    }\n",
       "\n",
       "    .dataframe thead th {\n",
       "        text-align: right;\n",
       "    }\n",
       "</style>\n",
       "<table border=\"1\" class=\"dataframe\">\n",
       "  <thead>\n",
       "    <tr style=\"text-align: right;\">\n",
       "      <th></th>\n",
       "      <th>rm</th>\n",
       "      <th>ptratio</th>\n",
       "      <th>lstat</th>\n",
       "    </tr>\n",
       "  </thead>\n",
       "  <tbody>\n",
       "    <tr>\n",
       "      <th>rm</th>\n",
       "      <td>1.0</td>\n",
       "      <td>-0.0</td>\n",
       "      <td>-0.0</td>\n",
       "    </tr>\n",
       "    <tr>\n",
       "      <th>ptratio</th>\n",
       "      <td>-0.0</td>\n",
       "      <td>1.0</td>\n",
       "      <td>0.0</td>\n",
       "    </tr>\n",
       "    <tr>\n",
       "      <th>lstat</th>\n",
       "      <td>-0.0</td>\n",
       "      <td>0.0</td>\n",
       "      <td>1.0</td>\n",
       "    </tr>\n",
       "  </tbody>\n",
       "</table>\n",
       "</div>"
      ],
      "text/plain": [
       "          rm  ptratio  lstat\n",
       "rm       1.0     -0.0   -0.0\n",
       "ptratio -0.0      1.0    0.0\n",
       "lstat   -0.0      0.0    1.0"
      ]
     },
     "execution_count": 36,
     "metadata": {},
     "output_type": "execute_result"
    }
   ],
   "source": [
    "x_train_white.corr().round()"
   ]
  },
  {
   "cell_type": "code",
   "execution_count": 37,
   "metadata": {},
   "outputs": [],
   "source": [
    "m = kr.models.Sequential()\n",
    "\n",
    "m.add(kr.layers.Dense(20, input_dim=3, activation=\"sigmoid\"))\n",
    "m.add(kr.layers.Dense(100, activation=\"softplus\"))\n",
    "m.add(kr.layers.Dense(1, activation=\"linear\"))\n",
    "\n",
    "m.compile(loss=\"mean_squared_error\", optimizer=\"adam\", metrics=['accuracy'])"
   ]
  },
  {
   "cell_type": "code",
   "execution_count": 38,
   "metadata": {},
   "outputs": [
    {
     "data": {
      "text/plain": [
       "<keras.callbacks.callbacks.History at 0x2c4cb8a7eb8>"
      ]
     },
     "execution_count": 38,
     "metadata": {},
     "output_type": "execute_result"
    }
   ],
   "source": [
    "m.fit(x_train_white, y_train, epochs=100, batch_size=10, verbose=0)"
   ]
  },
  {
   "cell_type": "code",
   "execution_count": 39,
   "metadata": {},
   "outputs": [
    {
     "data": {
      "text/plain": [
       "array([[33., 23., 13., 18., 16., 29., 16., 29., 29., 25., 23., 29., 26.,\n",
       "        22., 31., 28., 20., 12., 38., 22., 38., 13., 23., 31., 28., 32.,\n",
       "        23., 23., 18., 23., 31., 37., 24., 29., 32., 24., 28., 17., 22.,\n",
       "        26., 28., 14., 35., 22., 19., 19., 26., 27., 15., 22., 26., 19.,\n",
       "        11., 48., 23., 20., 16., 24., 25., 24., 23., 24., 20., 30., 27.,\n",
       "        17., 30., 17., 23., 17., 15., 14., 34., 24., 38., 13., 29., 20.,\n",
       "        24., 30., 44., 45.,  9., 30., 47., 19., 28., 29., 25., 19., 31.,\n",
       "        38., 21., 21.]], dtype=float32)"
      ]
     },
     "execution_count": 39,
     "metadata": {},
     "output_type": "execute_result"
    }
   ],
   "source": [
    "x_test_white = scaler.transform(x_test)\n",
    "m.predict(x_test_white).round().T"
   ]
  },
  {
   "cell_type": "code",
   "execution_count": 40,
   "metadata": {},
   "outputs": [
    {
     "name": "stderr",
     "output_type": "stream",
     "text": [
      "C:\\Users\\soman\\Anaconda3\\lib\\site-packages\\ipykernel_launcher.py:1: FutureWarning: Method .as_matrix will be removed in a future version. Use .values instead.\n",
      "  \"\"\"Entry point for launching an IPython kernel.\n"
     ]
    },
    {
     "data": {
      "text/plain": [
       "array([23.1, 21.2, 35.4, 26.5, 16.5, 19.6, 27.1, 23.2, 17.8, 14.5, 21.2,\n",
       "       15. , 21.2, 21.5, 22.5, 17.1, 21. , 34.9, 17.2, 20.6, 12.3, 31.6,\n",
       "       21.7, 19.5, 15.6, 20.8, 21.4, 23. , 23.6, 23.2, 13.4, 17.8, 14.3,\n",
       "       20.6, 20.1, 20.4, 20. , 25.1, 22.9, 21.7, 16.6, 32. , 13.4, 15. ,\n",
       "       22.9, 27.5, 19.4, 20.3, 26.7, 20. , 22.5, 24.2, 46.7, 13.8, 20.8,\n",
       "       23.8, 23.9, 17.1, 19.3, 10.9, 19.2, 19.6, 23.9, 18.5, 20. , 32.5,\n",
       "       18.9, 29.8, 19.1, 22. , 29.8, 33. , 17.3, 13.4, 11.5, 34.7, 14.8,\n",
       "       22.4, 18. , 13.5, 27.5, 23.1, 48.8, 22.4,  7. , 24.1, 19.9, 17.8,\n",
       "       21.7, 23.2, 13.3, 19.3, 21.6, 25.2], dtype=float32)"
      ]
     },
     "execution_count": 40,
     "metadata": {},
     "output_type": "execute_result"
    }
   ],
   "source": [
    "y_test.as_matrix().astype(np.float32)"
   ]
  },
  {
   "cell_type": "code",
   "execution_count": 41,
   "metadata": {},
   "outputs": [
    {
     "name": "stdout",
     "output_type": "stream",
     "text": [
      "94/94 [==============================] - 0s 957us/step\n"
     ]
    },
    {
     "data": {
      "text/plain": [
       "[187.32066247818318, 0.010638297535479069]"
      ]
     },
     "execution_count": 41,
     "metadata": {},
     "output_type": "execute_result"
    }
   ],
   "source": [
    "m.evaluate(x_test_white, y_test)"
   ]
  },
  {
   "cell_type": "markdown",
   "metadata": {},
   "source": [
    "### Derive the optimisation and activation parameters\n"
   ]
  },
  {
   "cell_type": "code",
   "execution_count": 42,
   "metadata": {},
   "outputs": [],
   "source": [
    "## The program is functionalised to try different optimisers and activiation model\n",
    "## The number of features/variables are kept to 3 based on the earlier anlysis.\n",
    "## This program is used to find the relvenat optimsation and Activation parameters\n",
    "\n",
    "CHECK = \"False\"\n",
    "\n",
    "if (CHECK==\"yes\"):\n",
    "        \n",
    "    ## Removing the outlier data from\n",
    "    ###      1) median value of the house\n",
    "    ###      2) Number of rooms\n",
    "    ###      3) Teach pupil ratio\n",
    "\n",
    "    def Outlier():\n",
    "        df_BHD_rmOutliers = df_BHD\n",
    "        df_BHD_sub = df_BHD[(df_BHD['medv'] < 10) & (df_BHD['rm'] > 5 ) ]\n",
    "        for row in df_BHD_sub.index:\n",
    "            df_BHD_rmOutliers = df_BHD_rmOutliers.drop(row)\n",
    "        df_BHD_rmOutliers = df_BHD_rmOutliers[(df_BHD['medv'] < 49)]\n",
    "        df_BHD_rmOutliers.head(10)\n",
    "\n",
    "    #Pass the required dataframe to the function and decide the training data set\n",
    "    # inputs : Number of rooms, techer pupil ratio and lower status of the population\n",
    "    # output : Median value of the house\n",
    "    def data(df_BHD_rmOutliers):\n",
    "        x = df_BHD_rmOutliers[['rm', 'ptratio', 'lstat']]\n",
    "        y = df_BHD_rmOutliers['medv']\n",
    "        x_train, x_test, y_train, y_test = mod.train_test_split(x, y, test_size=0.2)\n",
    "\n",
    "    # Preprocessing the data\n",
    "    def Preprocessing():\n",
    "        scaler = pre.StandardScaler()\n",
    "        scaler.fit(x_train)\n",
    "        x_train_scaled = scaler.transform(x_train)\n",
    "\n",
    "\n",
    "    # Data model execution by passing the optimiser and activiation parameters\n",
    "    def Datamodel(optimiser, activation1, activation2):\n",
    "        m = kr.models.Sequential()\n",
    "        m.add(kr.layers.Dense(20, input_dim=3, activation=activation1))\n",
    "        m.add(kr.layers.Dense(50, activation=activation2))\n",
    "        m.add(kr.layers.Dense(1, activation=\"linear\"))\n",
    "        m.compile(loss=\"mean_squared_error\", optimizer=optimiser)\n",
    "\n",
    "    def modelfit(activiation1, activiation2):\n",
    "        m.fit(x_train, y_train, epochs=100, batch_size=10,verbose=0)\n",
    "        print(\"Optimser :\" + optimiser + \" & Activation:\" + activiation1 + \" & Activation:\" + activiation2)\n",
    "        print(m.evaluate(x_test, y_test))\n",
    "\n",
    "    # copy the full dataset to the outliers dataframe\n",
    "    df_BHD_rmOutliers = df_BHD\n",
    "\n",
    "    # remove the outliers\n",
    "    Outlier()\n",
    "    data(df_BHD_rmOutliers)\n",
    "\n",
    "    # Loop through different optimiser and activiation models in keras\n",
    "    # Based on multiple iternations (TRIAL and ERROR), it understood that few activation functions and optimisers\n",
    "    #   are not producing desired results \n",
    "    for optimiser in (\"adam\",\"Nadam\",\"Adamax\",\"Adadelta\",\"Adagrad\",\"RMSprop\"):\n",
    "        for activiation1 in ('elu','softplus','softsign','sigmoid'):\n",
    "            for activiation2 in ('elu','softplus','softsign','relu','tanh','sigmoid'):\n",
    "                if (activiation1!=activiation2):\n",
    "                    Datamodel(optimiser,activiation1, activiation2)\n",
    "                    modelfit(activiation1, activiation2)      \n",
    "                \n",
    "\n",
    "\n",
    "        \n",
    "       "
   ]
  },
  {
   "cell_type": "markdown",
   "metadata": {},
   "source": [
    "### Evaluate the model using the identified activation and Optimisation parameters"
   ]
  },
  {
   "cell_type": "code",
   "execution_count": 43,
   "metadata": {},
   "outputs": [
    {
     "name": "stdout",
     "output_type": "stream",
     "text": [
      " Prediction : Data as given in the Boston housing data-set & NO Pre-Processing & NO whitening\n",
      " ---------------------------------------------------------------------------------------------\n",
      "94/94 [==============================] - 0s 66us/step\n",
      "[14.550057553230449, 0.010638297535479069]\n",
      " Prediction : Data as given in the Boston housing data-set & Pre-Processing & NO whitening\n",
      " ------------------------------------------------------------------------------------------\n",
      "94/94 [==============================] - 0s 187us/step\n",
      "[10.266358436422145, 0.03191489353775978]\n",
      " Prediction : Data as given in the Boston housing data-set & Pre-Processing &  whitening\n",
      " ----------------------------------------------------------------------------------------\n",
      "94/94 [==============================] - 0s 0us/step\n",
      "[172.8889445852726, 0.0]\n",
      " Prediction : Outlier data removed & NO Pre-Processing & NO whitening\n",
      " --------------------------------------------------------------------\n",
      "94/94 [==============================] - 0s 0us/step\n",
      "[12.310946687738946, 0.010638297535479069]\n",
      " Prediction : Outlier data removed & Pre-Processing & NO whitening\n",
      " -----------------------------------------------------------------\n",
      "94/94 [==============================] - 0s 0us/step\n",
      "[9.483682449827803, 0.021276595070958138]\n",
      " Prediction : Outlier data removed & Pre-Processing & NO whitening\n",
      " -----------------------------------------------------------------\n",
      "94/94 [==============================] - 0s 31us/step\n",
      "[181.99287252223237, 0.0]\n"
     ]
    }
   ],
   "source": [
    "# The best optimisation parameters caluclated from the above step are listed below\n",
    "\n",
    "#Optimiser  : Adam\n",
    "#Activation : softsign\n",
    "#Activation : tanh\n",
    "#Activation : linear\n",
    "\n",
    "# Use the above parameters in the kera's neural funcitons \n",
    "\n",
    "## Removing the outlier data from\n",
    "###      1) median value of the house\n",
    "###      2) Number of rooms\n",
    "###      3) Teach pupil ratio\n",
    "\n",
    "### suppress the warning messages to make the output neat and clean\n",
    "\n",
    "import warnings\n",
    "warnings.filterwarnings(\"ignore\")\n",
    "\n",
    "def Outlier():\n",
    "    df_BHD_rmOutliers = df_BHD\n",
    "    df_BHD_sub = df_BHD[(df_BHD['medv'] < 10) & (df_BHD['rm'] > 5 ) ]\n",
    "    for row in df_BHD_sub.index:\n",
    "        df_BHD_rmOutliers = df_BHD_rmOutliers.drop(row)\n",
    "    df_BHD_rmOutliers = df_BHD_rmOutliers[(df_BHD['medv'] < 40)]\n",
    "    df_BHD_rmOutliers.head(10)\n",
    "\n",
    "#Pass the required dataframe to the function and decide the training data set\n",
    "# inputs : Number of rooms, techer pupil ratio and lower status of the population\n",
    "# output : Median value of the house\n",
    "def data(df_BHD_rmOutliers):\n",
    "    x = df_BHD_rmOutliers[['rm', 'ptratio', 'lstat']]\n",
    "    y = df_BHD_rmOutliers['medv']\n",
    "    x_train, x_test, y_train, y_test = mod.train_test_split(x, y, test_size=0.2)\n",
    "\n",
    "# Data model execution by passing the optimiser and activiation parameters\n",
    "def Datamodel():\n",
    "    m = kr.models.Sequential()\n",
    "    m.add(kr.layers.Dense(20, input_dim=3, activation='softsign'))\n",
    "    m.add(kr.layers.Dense(50, activation='tanh'))\n",
    "    m.add(kr.layers.Dense(1, activation=\"linear\"))\n",
    "    m.compile(loss=\"mean_squared_error\", optimizer='adam')\n",
    "\n",
    "def modelfit(prewhite):\n",
    "    if prewhite == \"yes\":\n",
    "        scaler = pre.StandardScaler()\n",
    "        scaler.fit(x_train)\n",
    "        x_train_scaled = scaler.transform(x_train)\n",
    "        m.fit(x_train_scaled, y_train, epochs=100, batch_size=10,verbose=0)\n",
    "        x_test_scaled = scaler.transform(x_test)\n",
    "        print(m.evaluate(x_test_scaled, y_test))\n",
    "    elif prewhite == \"no\":\n",
    "        m.fit(x_train, y_train, epochs=100, batch_size=10,verbose=0)\n",
    "        print(m.evaluate(x_test, y_test))\n",
    "    elif prewhite == \"white\":\n",
    "        pca = dec.PCA(n_components=3, whiten=True)\n",
    "        pca.fit(x_train)\n",
    "        x_train_white = pd.DataFrame(pca.transform(x_train), columns=x.columns)\n",
    "        m.fit(x_train_white, y_train, epochs=100, batch_size=10,verbose=0)\n",
    "        print(m.evaluate(x_test_white, y_test)) \n",
    "\n",
    "\n",
    "# remove the outliers, call the datamodel and fit funcitons\n",
    "\n",
    "def mainfunction(value, flag):\n",
    "    # step 1 - No preprossing\n",
    "    Outlier()\n",
    "    data(value)\n",
    "    Datamodel()\n",
    "    if flag == \"yes\":\n",
    "        print (\" Prediction : Data as given in the Boston housing data-set & NO Pre-Processing & NO whitening\" )\n",
    "        print (\" ---------------------------------------------------------------------------------------------\")\n",
    "    else:\n",
    "        print (\" Prediction : Outlier data removed & NO Pre-Processing & NO whitening\" )\n",
    "        print (\" --------------------------------------------------------------------\")\n",
    "    modelfit(\"no\")\n",
    "    # step 2 - pre- processing \n",
    "    if flag == \"yes\":\n",
    "        print (\" Prediction : Data as given in the Boston housing data-set & Pre-Processing & NO whitening\" )\n",
    "        print (\" ------------------------------------------------------------------------------------------\")\n",
    "    else:\n",
    "        print (\" Prediction : Outlier data removed & Pre-Processing & NO whitening\" )\n",
    "        print (\" -----------------------------------------------------------------\")\n",
    "    Outlier()\n",
    "    data(df_BHD)\n",
    "    Datamodel()\n",
    "    modelfit(\"yes\")\n",
    "    # step 3 - whitening\n",
    "    Outlier()\n",
    "    data(value)\n",
    "    Datamodel()\n",
    "    if flag == \"yes\":\n",
    "        print (\" Prediction : Data as given in the Boston housing data-set & Pre-Processing &  whitening\" )\n",
    "        print (\" ----------------------------------------------------------------------------------------\")\n",
    "    else:\n",
    "        print (\" Prediction : Outlier data removed & Pre-Processing & NO whitening\" )\n",
    "        print (\" -----------------------------------------------------------------\")\n",
    "    modelfit(\"white\")\n",
    "\n",
    "## Call the main funciton for the different datasets\n",
    "mainfunction(df_BHD,\"yes\")\n",
    "mainfunction(df_BHD_rmOutliers,\"no\")\n",
    "    "
   ]
  },
  {
   "cell_type": "markdown",
   "metadata": {},
   "source": [
    "# Section 4 :: Summary and Key findings"
   ]
  },
  {
   "cell_type": "markdown",
   "metadata": {},
   "source": [
    "- Section 1 & 2 data analysis concluded that the below parameters / features of the data-set are relevant \n",
    "\n",
    "        - Number of rooms (rm)\n",
    "        - Lower strata of the people (lstat)\n",
    "        - teacher to student ratio (ptraio)\n",
    "        \n",
    "- The other parameters/features are not directly contributing to the median prices of houses in the given data set\n",
    "\n",
    "\n",
    "<b>Description and Analysis</b>\n",
    "\n",
    "- Median Value \n",
    "        - Dependent variable and the rest of the features in the dataset are indepedent variables\n",
    "        - Normally distributed with few outliers especially around the value 50\n",
    "        - Median house value is 20 and there are 16 outlier data in the given data set.\n",
    "\n",
    "- Polyfit coefficients (straight line y=mx+c)\n",
    "\n",
    "| Independent parameters           |   value of m                     | value of C    |\n",
    "|:-------------------------------- |:--------------------------------:| -------------:|\n",
    "| Number of Bedrooms(rm)           |    8.05                          |  -28.18       |\n",
    "| Lower Status of population(lstat)|   -0.84                          |   32.54       |\n",
    "| pupil teach ratio(ptraio)        |   -0.75                          |   30.84       |\n",
    "\n",
    "- R Squared Value\n",
    "        \n",
    "| Independent parameters           |   Co-efficient of determination  | Intercept                 |Slope       |\n",
    "|:-------------------------------- |:--------------------------------:|:-------------------------:|:----------:|\n",
    "| Number of Bedrooms(rm)           |   0.500109529                    |  4.879                    | 0.0620     |\n",
    "| Lower Status of population(lstat)|   0.6008488                      |  29.907                   |-0.7988     |\n",
    "| pupil teach ratio(ptraio)        |   0.205931326                    |  20.846                   |-0.100      |\n",
    "\n",
    "- T test results\n",
    "\n",
    "        - There is no significant difference between the median house prices based on the proximity to the charles river. \n",
    "        - There is a statistically NO difference based on the house location in charles river ( p> 0.9, r= 0.843).\n",
    "        \n",
    "\n",
    "<b>Prediction</b>\n",
    "\n",
    "- The optimisation parameters are caluclated from using pytho function\n",
    "\n",
    "        - Optimiser  : Adam\n",
    "        - Activation : softsign\n",
    "        - Activation : tanh\n",
    "        - Activation : linear\n",
    "\n",
    "- Evaluation results\n",
    "        \n",
    "| Independent parameters           |   Given Data-Set                 | Pre-Processing            |Whitening   |\n",
    "|:-------------------------------- |:--------------------------------:|:-------------------------:|:----------:|\n",
    "| Data without removing outliers   |   14.5                           |  10.2                     | 172        |\n",
    "| Data with outliers removed)      |   12.3                           |  9.48                     | 181        |\n",
    "\n"
   ]
  },
  {
   "cell_type": "markdown",
   "metadata": {},
   "source": [
    "# Section 5  - References\n",
    "\n",
    "\n",
    "- Boston Housing Dataset - The dataset used in this notebook is taken from the below site\n",
    "  - [https://www.kaggle.com/c/boston-housing](https://www.kaggle.com/c/boston-housing)\n",
    "  - [https://www.cs.toronto.edu/~delve/data/boston/bostonDetail.html](https://www.cs.toronto.edu/~delve/data/boston/bostonDetail.html)\n",
    "  - [http://lib.stat.cmu.edu/datasets/boston](http://lib.stat.cmu.edu/datasets/boston)\n",
    "  \n",
    "  \n",
    "\n",
    "- Real Python - The information in this site is extensively used for description & inference section of this assignment\n",
    "    - [https://realpython.com/linear-regression-in-python](https://realpython.com/linear-regression-in-python)\n",
    "  \n",
    "  \n",
    "  \n",
    "- T- Test :: Definition and Explanation\n",
    "    - [https://www.investopedia.com/terms/t/t-test.asp](https://www.investopedia.com/terms/t/t-test.asp)\n",
    "  \n",
    "  \n",
    "  \n",
    "- Levene's Test\n",
    "    - [https://www.spss-tutorials.com/levenes-test-in-spss](https://www.spss-tutorials.com/levenes-test-in-spss)\n",
    "    - [https://en.wikipedia.org/wiki/Levene%27s_test](https://en.wikipedia.org/wiki/Levene%27s_test)\n",
    "\n",
    "\n",
    "\n",
    "- Keras :: How to use the keras' module\n",
    "    - [https://keras.io/](https://keras.io/)\n",
    "\n",
    "\n",
    "\n",
    "- Tensor flow\n",
    "    - [https://www.tensorflow.org/tutorials/load_data/pandas_dataframe](https://www.tensorflow.org/tutorials/load_data/pandas_dataframe)\n",
    "    \n",
    "    \n",
    "- Prediction \n",
    "    - [https://machinelearningmastery.com/regression-tutorial-keras-deep-learning-library-python/] (https://machinelearningmastery.com/regression-tutorial-keras-deep-learning-library-python/)\n",
    "    - [https://machinelearningmastery.com/regression-tutorial-keras-deep-learning-library-python/](https://machinelearningmastery.com/regression-tutorial-keras-deep-learning-library-python/)"
   ]
  }
 ],
 "metadata": {
  "kernelspec": {
   "display_name": "Python 3",
   "language": "python",
   "name": "python3"
  },
  "language_info": {
   "codemirror_mode": {
    "name": "ipython",
    "version": 3
   },
   "file_extension": ".py",
   "mimetype": "text/x-python",
   "name": "python",
   "nbconvert_exporter": "python",
   "pygments_lexer": "ipython3",
   "version": "3.7.3"
  }
 },
 "nbformat": 4,
 "nbformat_minor": 2
}
